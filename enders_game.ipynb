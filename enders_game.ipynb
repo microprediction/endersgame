{
 "cells": [
  {
   "cell_type": "markdown",
   "metadata": {
    "id": "zo73IM6nxSJW"
   },
   "source": [
    "## Prepare the staging environment"
   ]
  },
  {
   "cell_type": "code",
   "execution_count": 1,
   "metadata": {
    "colab": {
     "base_uri": "https://localhost:8080/"
    },
    "id": "jfWDeX6FwWiE",
    "outputId": "3094efc2-e520-41a8-9bf0-6fbb2503c1c3"
   },
   "outputs": [
    {
     "name": "stdout",
     "output_type": "stream",
     "text": [
      "env: WEB_BASE_URL=https://hub.crunchdao.io\n",
      "env: API_BASE_URL=http://api.hub.crunchdao.io\n"
     ]
    }
   ],
   "source": [
    "%env WEB_BASE_URL=https://hub.crunchdao.io\n",
    "%env API_BASE_URL=http://api.hub.crunchdao.io"
   ]
  },
  {
   "cell_type": "code",
   "execution_count": 2,
   "metadata": {
    "collapsed": true,
    "id": "rSQqZYDsw1Fy",
    "jupyter": {
     "outputs_hidden": true
    }
   },
   "outputs": [
    {
     "name": "stdout",
     "output_type": "stream",
     "text": [
      "\u001b[33mDEPRECATION: Configuring installation scheme with distutils config files is deprecated and will no longer work in the near future. If you are using a Homebrew or Linuxbrew Python, please see discussion at https://github.com/Homebrew/homebrew-core/issues/76621\u001b[0m\u001b[33m\n",
      "\u001b[0mCollecting crunch-cli==4.0.0b5\n",
      "  Downloading crunch_cli-4.0.0b5-py3-none-any.whl.metadata (3.2 kB)\n",
      "Collecting astor (from crunch-cli==4.0.0b5)\n",
      "  Downloading astor-0.8.1-py2.py3-none-any.whl.metadata (4.2 kB)\n",
      "Requirement already satisfied: click in /usr/local/lib/python3.9/site-packages (from crunch-cli==4.0.0b5) (8.1.3)\n",
      "Collecting coloredlogs (from crunch-cli==4.0.0b5)\n",
      "  Downloading coloredlogs-15.0.1-py2.py3-none-any.whl.metadata (12 kB)\n",
      "Collecting dataclasses-json (from crunch-cli==4.0.0b5)\n",
      "  Downloading dataclasses_json-0.6.7-py3-none-any.whl.metadata (25 kB)\n",
      "Collecting gitignorefile (from crunch-cli==4.0.0b5)\n",
      "  Downloading gitignorefile-1.1.2.tar.gz (12 kB)\n",
      "  Installing build dependencies ... \u001b[?25ldone\n",
      "\u001b[?25h  Getting requirements to build wheel ... \u001b[?25ldone\n",
      "\u001b[?25h  Preparing metadata (pyproject.toml) ... \u001b[?25ldone\n",
      "\u001b[?25hCollecting humanfriendly (from crunch-cli==4.0.0b5)\n",
      "  Downloading humanfriendly-10.0-py2.py3-none-any.whl.metadata (9.2 kB)\n",
      "Collecting inflection (from crunch-cli==4.0.0b5)\n",
      "  Downloading inflection-0.5.1-py2.py3-none-any.whl.metadata (1.7 kB)\n",
      "Collecting inquirer (from crunch-cli==4.0.0b5)\n",
      "  Downloading inquirer-3.4.0-py3-none-any.whl.metadata (6.8 kB)\n",
      "Collecting joblib (from crunch-cli==4.0.0b5)\n",
      "  Downloading joblib-1.4.2-py3-none-any.whl.metadata (5.4 kB)\n",
      "Collecting networkx (from crunch-cli==4.0.0b5)\n",
      "  Using cached networkx-3.2.1-py3-none-any.whl.metadata (5.2 kB)\n",
      "Requirement already satisfied: packaging in /usr/local/lib/python3.9/site-packages (from crunch-cli==4.0.0b5) (24.1)\n",
      "Requirement already satisfied: pandas in /usr/local/lib/python3.9/site-packages (from crunch-cli==4.0.0b5) (2.2.3)\n",
      "Requirement already satisfied: psutil in /usr/local/lib/python3.9/site-packages (from crunch-cli==4.0.0b5) (6.0.0)\n",
      "Collecting pyarrow (from crunch-cli==4.0.0b5)\n",
      "  Downloading pyarrow-17.0.0-cp39-cp39-macosx_10_15_x86_64.whl.metadata (3.3 kB)\n",
      "Requirement already satisfied: pytest in /usr/local/lib/python3.9/site-packages (from crunch-cli==4.0.0b5) (7.1.2)\n",
      "Collecting python-dotenv (from crunch-cli==4.0.0b5)\n",
      "  Downloading python_dotenv-1.0.1-py3-none-any.whl.metadata (23 kB)\n",
      "Requirement already satisfied: requests in /usr/local/lib/python3.9/site-packages (from crunch-cli==4.0.0b5) (2.32.3)\n",
      "Collecting requests-toolbelt (from crunch-cli==4.0.0b5)\n",
      "  Using cached requests_toolbelt-1.0.0-py2.py3-none-any.whl.metadata (14 kB)\n",
      "Collecting requirements-parser (from crunch-cli==4.0.0b5)\n",
      "  Downloading requirements_parser-0.11.0-py3-none-any.whl.metadata (4.7 kB)\n",
      "Collecting scikit-learn (from crunch-cli==4.0.0b5)\n",
      "  Downloading scikit_learn-1.5.2-cp39-cp39-macosx_10_9_x86_64.whl.metadata (13 kB)\n",
      "Requirement already satisfied: scipy in /usr/local/lib/python3.9/site-packages (from crunch-cli==4.0.0b5) (1.13.1)\n",
      "Collecting sseclient-py (from crunch-cli==4.0.0b5)\n",
      "  Downloading sseclient_py-1.8.0-py2.py3-none-any.whl.metadata (2.0 kB)\n",
      "Collecting tqdm (from crunch-cli==4.0.0b5)\n",
      "  Downloading tqdm-4.66.5-py3-none-any.whl.metadata (57 kB)\n",
      "Collecting marshmallow<4.0.0,>=3.18.0 (from dataclasses-json->crunch-cli==4.0.0b5)\n",
      "  Downloading marshmallow-3.22.0-py3-none-any.whl.metadata (7.2 kB)\n",
      "Collecting typing-inspect<1,>=0.4.0 (from dataclasses-json->crunch-cli==4.0.0b5)\n",
      "  Using cached typing_inspect-0.9.0-py3-none-any.whl.metadata (1.5 kB)\n",
      "Collecting blessed>=1.19.0 (from inquirer->crunch-cli==4.0.0b5)\n",
      "  Downloading blessed-1.20.0-py2.py3-none-any.whl.metadata (13 kB)\n",
      "Collecting editor>=1.6.0 (from inquirer->crunch-cli==4.0.0b5)\n",
      "  Downloading editor-1.6.6-py3-none-any.whl.metadata (2.3 kB)\n",
      "Collecting readchar>=4.2.0 (from inquirer->crunch-cli==4.0.0b5)\n",
      "  Downloading readchar-4.2.0-py3-none-any.whl.metadata (7.5 kB)\n",
      "Requirement already satisfied: numpy>=1.22.4 in /usr/local/lib/python3.9/site-packages (from pandas->crunch-cli==4.0.0b5) (1.26.4)\n",
      "Requirement already satisfied: python-dateutil>=2.8.2 in /usr/local/lib/python3.9/site-packages (from pandas->crunch-cli==4.0.0b5) (2.9.0.post0)\n",
      "Requirement already satisfied: pytz>=2020.1 in /usr/local/lib/python3.9/site-packages (from pandas->crunch-cli==4.0.0b5) (2024.2)\n",
      "Requirement already satisfied: tzdata>=2022.7 in /usr/local/lib/python3.9/site-packages (from pandas->crunch-cli==4.0.0b5) (2024.1)\n",
      "Requirement already satisfied: attrs>=19.2.0 in /usr/local/lib/python3.9/site-packages (from pytest->crunch-cli==4.0.0b5) (24.2.0)\n",
      "Requirement already satisfied: iniconfig in /usr/local/lib/python3.9/site-packages (from pytest->crunch-cli==4.0.0b5) (1.1.1)\n",
      "Requirement already satisfied: pluggy<2.0,>=0.12 in /usr/local/lib/python3.9/site-packages (from pytest->crunch-cli==4.0.0b5) (1.0.0)\n",
      "Requirement already satisfied: py>=1.8.2 in /usr/local/lib/python3.9/site-packages (from pytest->crunch-cli==4.0.0b5) (1.11.0)\n",
      "Requirement already satisfied: tomli>=1.0.0 in /usr/local/lib/python3.9/site-packages (from pytest->crunch-cli==4.0.0b5) (2.0.1)\n",
      "Requirement already satisfied: charset-normalizer<4,>=2 in /usr/local/lib/python3.9/site-packages (from requests->crunch-cli==4.0.0b5) (3.3.2)\n",
      "Requirement already satisfied: idna<4,>=2.5 in /usr/local/lib/python3.9/site-packages (from requests->crunch-cli==4.0.0b5) (3.10)\n",
      "Requirement already satisfied: urllib3<3,>=1.21.1 in /usr/local/lib/python3.9/site-packages (from requests->crunch-cli==4.0.0b5) (2.2.3)\n",
      "Requirement already satisfied: certifi>=2017.4.17 in /usr/local/lib/python3.9/site-packages (from requests->crunch-cli==4.0.0b5) (2024.8.30)\n",
      "Collecting types-setuptools>=69.1.0 (from requirements-parser->crunch-cli==4.0.0b5)\n",
      "  Downloading types_setuptools-75.1.0.20240917-py3-none-any.whl.metadata (1.8 kB)\n",
      "Collecting threadpoolctl>=3.1.0 (from scikit-learn->crunch-cli==4.0.0b5)\n",
      "  Downloading threadpoolctl-3.5.0-py3-none-any.whl.metadata (13 kB)\n",
      "Requirement already satisfied: wcwidth>=0.1.4 in /usr/local/lib/python3.9/site-packages (from blessed>=1.19.0->inquirer->crunch-cli==4.0.0b5) (0.2.13)\n",
      "Requirement already satisfied: six>=1.9.0 in /usr/local/lib/python3.9/site-packages (from blessed>=1.19.0->inquirer->crunch-cli==4.0.0b5) (1.16.0)\n",
      "Collecting runs (from editor>=1.6.0->inquirer->crunch-cli==4.0.0b5)\n",
      "  Downloading runs-1.2.2-py3-none-any.whl.metadata (10 kB)\n",
      "Collecting xmod (from editor>=1.6.0->inquirer->crunch-cli==4.0.0b5)\n",
      "  Downloading xmod-1.8.1-py3-none-any.whl.metadata (1.8 kB)\n",
      "Collecting mypy-extensions>=0.3.0 (from typing-inspect<1,>=0.4.0->dataclasses-json->crunch-cli==4.0.0b5)\n",
      "  Downloading mypy_extensions-1.0.0-py3-none-any.whl.metadata (1.1 kB)\n",
      "Requirement already satisfied: typing-extensions>=3.7.4 in /usr/local/lib/python3.9/site-packages (from typing-inspect<1,>=0.4.0->dataclasses-json->crunch-cli==4.0.0b5) (4.12.2)\n",
      "Downloading crunch_cli-4.0.0b5-py3-none-any.whl (80 kB)\n",
      "Downloading astor-0.8.1-py2.py3-none-any.whl (27 kB)\n",
      "Using cached coloredlogs-15.0.1-py2.py3-none-any.whl (46 kB)\n",
      "Using cached humanfriendly-10.0-py2.py3-none-any.whl (86 kB)\n",
      "Downloading dataclasses_json-0.6.7-py3-none-any.whl (28 kB)\n",
      "Downloading inflection-0.5.1-py2.py3-none-any.whl (9.5 kB)\n",
      "Downloading inquirer-3.4.0-py3-none-any.whl (18 kB)\n",
      "Downloading joblib-1.4.2-py3-none-any.whl (301 kB)\n",
      "Using cached networkx-3.2.1-py3-none-any.whl (1.6 MB)\n",
      "Downloading pyarrow-17.0.0-cp39-cp39-macosx_10_15_x86_64.whl (29.0 MB)\n",
      "\u001b[2K   \u001b[90m━━━━━━━━━━━━━━━━━━━━━━━━━━━━━━━━━━━━━━━━\u001b[0m \u001b[32m29.0/29.0 MB\u001b[0m \u001b[31m56.2 MB/s\u001b[0m eta \u001b[36m0:00:00\u001b[0ma \u001b[36m0:00:01\u001b[0m\n",
      "\u001b[?25hDownloading python_dotenv-1.0.1-py3-none-any.whl (19 kB)\n",
      "Using cached requests_toolbelt-1.0.0-py2.py3-none-any.whl (54 kB)\n",
      "Downloading requirements_parser-0.11.0-py3-none-any.whl (14 kB)\n",
      "Downloading scikit_learn-1.5.2-cp39-cp39-macosx_10_9_x86_64.whl (12.1 MB)\n",
      "\u001b[2K   \u001b[90m━━━━━━━━━━━━━━━━━━━━━━━━━━━━━━━━━━━━━━━━\u001b[0m \u001b[32m12.1/12.1 MB\u001b[0m \u001b[31m54.3 MB/s\u001b[0m eta \u001b[36m0:00:00\u001b[0m00:01\u001b[0m\n",
      "\u001b[?25hDownloading sseclient_py-1.8.0-py2.py3-none-any.whl (8.8 kB)\n",
      "Downloading tqdm-4.66.5-py3-none-any.whl (78 kB)\n",
      "Downloading blessed-1.20.0-py2.py3-none-any.whl (58 kB)\n",
      "Downloading editor-1.6.6-py3-none-any.whl (4.0 kB)\n",
      "Downloading marshmallow-3.22.0-py3-none-any.whl (49 kB)\n",
      "Downloading readchar-4.2.0-py3-none-any.whl (9.3 kB)\n",
      "Downloading threadpoolctl-3.5.0-py3-none-any.whl (18 kB)\n",
      "Downloading types_setuptools-75.1.0.20240917-py3-none-any.whl (65 kB)\n",
      "Using cached typing_inspect-0.9.0-py3-none-any.whl (8.8 kB)\n",
      "Using cached mypy_extensions-1.0.0-py3-none-any.whl (4.7 kB)\n",
      "Downloading runs-1.2.2-py3-none-any.whl (7.0 kB)\n",
      "Downloading xmod-1.8.1-py3-none-any.whl (4.6 kB)\n",
      "Building wheels for collected packages: gitignorefile\n",
      "  Building wheel for gitignorefile (pyproject.toml) ... \u001b[?25ldone\n",
      "\u001b[?25h  Created wheel for gitignorefile: filename=gitignorefile-1.1.2-py3-none-any.whl size=6672 sha256=59670b4262a2ac190f7bd07a5f9bf75082b364ebcb17e82045b073488bbbd1b5\n",
      "  Stored in directory: /Users/antoine/Library/Caches/pip/wheels/a9/76/d1/1d0ec7d5cdac26791d7a714b34c697777ccf58d4630f0a28b7\n",
      "Successfully built gitignorefile\n",
      "Installing collected packages: sseclient-py, gitignorefile, xmod, types-setuptools, tqdm, threadpoolctl, readchar, python-dotenv, pyarrow, networkx, mypy-extensions, marshmallow, joblib, inflection, humanfriendly, blessed, astor, typing-inspect, scikit-learn, runs, requirements-parser, requests-toolbelt, coloredlogs, editor, dataclasses-json, inquirer, crunch-cli\n",
      "\u001b[33m  DEPRECATION: Configuring installation scheme with distutils config files is deprecated and will no longer work in the near future. If you are using a Homebrew or Linuxbrew Python, please see discussion at https://github.com/Homebrew/homebrew-core/issues/76621\u001b[0m\u001b[33m\n",
      "\u001b[0m\u001b[33m  DEPRECATION: Configuring installation scheme with distutils config files is deprecated and will no longer work in the near future. If you are using a Homebrew or Linuxbrew Python, please see discussion at https://github.com/Homebrew/homebrew-core/issues/76621\u001b[0m\u001b[33m\n",
      "\u001b[0m\u001b[33m  DEPRECATION: Configuring installation scheme with distutils config files is deprecated and will no longer work in the near future. If you are using a Homebrew or Linuxbrew Python, please see discussion at https://github.com/Homebrew/homebrew-core/issues/76621\u001b[0m\u001b[33m\n",
      "\u001b[0m\u001b[33m  DEPRECATION: Configuring installation scheme with distutils config files is deprecated and will no longer work in the near future. If you are using a Homebrew or Linuxbrew Python, please see discussion at https://github.com/Homebrew/homebrew-core/issues/76621\u001b[0m\u001b[33m\n",
      "\u001b[0m\u001b[33m  DEPRECATION: Configuring installation scheme with distutils config files is deprecated and will no longer work in the near future. If you are using a Homebrew or Linuxbrew Python, please see discussion at https://github.com/Homebrew/homebrew-core/issues/76621\u001b[0m\u001b[33m\n",
      "\u001b[0m\u001b[33m  DEPRECATION: Configuring installation scheme with distutils config files is deprecated and will no longer work in the near future. If you are using a Homebrew or Linuxbrew Python, please see discussion at https://github.com/Homebrew/homebrew-core/issues/76621\u001b[0m\u001b[33m\n",
      "\u001b[0m\u001b[33m  DEPRECATION: Configuring installation scheme with distutils config files is deprecated and will no longer work in the near future. If you are using a Homebrew or Linuxbrew Python, please see discussion at https://github.com/Homebrew/homebrew-core/issues/76621\u001b[0m\u001b[33m\n",
      "\u001b[0m\u001b[33m  DEPRECATION: Configuring installation scheme with distutils config files is deprecated and will no longer work in the near future. If you are using a Homebrew or Linuxbrew Python, please see discussion at https://github.com/Homebrew/homebrew-core/issues/76621\u001b[0m\u001b[33m\n",
      "\u001b[0m\u001b[33m  DEPRECATION: Configuring installation scheme with distutils config files is deprecated and will no longer work in the near future. If you are using a Homebrew or Linuxbrew Python, please see discussion at https://github.com/Homebrew/homebrew-core/issues/76621\u001b[0m\u001b[33m\n",
      "\u001b[0m\u001b[33m  DEPRECATION: Configuring installation scheme with distutils config files is deprecated and will no longer work in the near future. If you are using a Homebrew or Linuxbrew Python, please see discussion at https://github.com/Homebrew/homebrew-core/issues/76621\u001b[0m\u001b[33m\n",
      "\u001b[0m\u001b[33m  DEPRECATION: Configuring installation scheme with distutils config files is deprecated and will no longer work in the near future. If you are using a Homebrew or Linuxbrew Python, please see discussion at https://github.com/Homebrew/homebrew-core/issues/76621\u001b[0m\u001b[33m\n",
      "\u001b[0m\u001b[33m  DEPRECATION: Configuring installation scheme with distutils config files is deprecated and will no longer work in the near future. If you are using a Homebrew or Linuxbrew Python, please see discussion at https://github.com/Homebrew/homebrew-core/issues/76621\u001b[0m\u001b[33m\n",
      "\u001b[0m\u001b[33m  DEPRECATION: Configuring installation scheme with distutils config files is deprecated and will no longer work in the near future. If you are using a Homebrew or Linuxbrew Python, please see discussion at https://github.com/Homebrew/homebrew-core/issues/76621\u001b[0m\u001b[33m\n",
      "\u001b[0m\u001b[33m  DEPRECATION: Configuring installation scheme with distutils config files is deprecated and will no longer work in the near future. If you are using a Homebrew or Linuxbrew Python, please see discussion at https://github.com/Homebrew/homebrew-core/issues/76621\u001b[0m\u001b[33m\n",
      "\u001b[0m\u001b[33m  DEPRECATION: Configuring installation scheme with distutils config files is deprecated and will no longer work in the near future. If you are using a Homebrew or Linuxbrew Python, please see discussion at https://github.com/Homebrew/homebrew-core/issues/76621\u001b[0m\u001b[33m\n",
      "\u001b[0m\u001b[33m  DEPRECATION: Configuring installation scheme with distutils config files is deprecated and will no longer work in the near future. If you are using a Homebrew or Linuxbrew Python, please see discussion at https://github.com/Homebrew/homebrew-core/issues/76621\u001b[0m\u001b[33m\n",
      "\u001b[0m\u001b[33m  DEPRECATION: Configuring installation scheme with distutils config files is deprecated and will no longer work in the near future. If you are using a Homebrew or Linuxbrew Python, please see discussion at https://github.com/Homebrew/homebrew-core/issues/76621\u001b[0m\u001b[33m\n",
      "\u001b[0m\u001b[33m  DEPRECATION: Configuring installation scheme with distutils config files is deprecated and will no longer work in the near future. If you are using a Homebrew or Linuxbrew Python, please see discussion at https://github.com/Homebrew/homebrew-core/issues/76621\u001b[0m\u001b[33m\n",
      "\u001b[0m\u001b[33m  DEPRECATION: Configuring installation scheme with distutils config files is deprecated and will no longer work in the near future. If you are using a Homebrew or Linuxbrew Python, please see discussion at https://github.com/Homebrew/homebrew-core/issues/76621\u001b[0m\u001b[33m\n",
      "\u001b[0m\u001b[33m  DEPRECATION: Configuring installation scheme with distutils config files is deprecated and will no longer work in the near future. If you are using a Homebrew or Linuxbrew Python, please see discussion at https://github.com/Homebrew/homebrew-core/issues/76621\u001b[0m\u001b[33m\n",
      "\u001b[0m\u001b[33m  DEPRECATION: Configuring installation scheme with distutils config files is deprecated and will no longer work in the near future. If you are using a Homebrew or Linuxbrew Python, please see discussion at https://github.com/Homebrew/homebrew-core/issues/76621\u001b[0m\u001b[33m\n",
      "\u001b[0m\u001b[33m  DEPRECATION: Configuring installation scheme with distutils config files is deprecated and will no longer work in the near future. If you are using a Homebrew or Linuxbrew Python, please see discussion at https://github.com/Homebrew/homebrew-core/issues/76621\u001b[0m\u001b[33m\n",
      "\u001b[0m\u001b[33m  DEPRECATION: Configuring installation scheme with distutils config files is deprecated and will no longer work in the near future. If you are using a Homebrew or Linuxbrew Python, please see discussion at https://github.com/Homebrew/homebrew-core/issues/76621\u001b[0m\u001b[33m\n",
      "\u001b[0m\u001b[33m  DEPRECATION: Configuring installation scheme with distutils config files is deprecated and will no longer work in the near future. If you are using a Homebrew or Linuxbrew Python, please see discussion at https://github.com/Homebrew/homebrew-core/issues/76621\u001b[0m\u001b[33m\n",
      "\u001b[0m\u001b[33m  DEPRECATION: Configuring installation scheme with distutils config files is deprecated and will no longer work in the near future. If you are using a Homebrew or Linuxbrew Python, please see discussion at https://github.com/Homebrew/homebrew-core/issues/76621\u001b[0m\u001b[33m\n",
      "\u001b[0m\u001b[33m  DEPRECATION: Configuring installation scheme with distutils config files is deprecated and will no longer work in the near future. If you are using a Homebrew or Linuxbrew Python, please see discussion at https://github.com/Homebrew/homebrew-core/issues/76621\u001b[0m\u001b[33m\n",
      "\u001b[0m\u001b[33m  DEPRECATION: Configuring installation scheme with distutils config files is deprecated and will no longer work in the near future. If you are using a Homebrew or Linuxbrew Python, please see discussion at https://github.com/Homebrew/homebrew-core/issues/76621\u001b[0m\u001b[33m\n",
      "\u001b[0m\u001b[33mDEPRECATION: Configuring installation scheme with distutils config files is deprecated and will no longer work in the near future. If you are using a Homebrew or Linuxbrew Python, please see discussion at https://github.com/Homebrew/homebrew-core/issues/76621\u001b[0m\u001b[33m\n",
      "\u001b[0mSuccessfully installed astor-0.8.1 blessed-1.20.0 coloredlogs-15.0.1 crunch-cli-4.0.0b5 dataclasses-json-0.6.7 editor-1.6.6 gitignorefile-1.1.2 humanfriendly-10.0 inflection-0.5.1 inquirer-3.4.0 joblib-1.4.2 marshmallow-3.22.0 mypy-extensions-1.0.0 networkx-3.2.1 pyarrow-17.0.0 python-dotenv-1.0.1 readchar-4.2.0 requests-toolbelt-1.0.0 requirements-parser-0.11.0 runs-1.2.2 scikit-learn-1.5.2 sseclient-py-1.8.0 threadpoolctl-3.5.0 tqdm-4.66.5 types-setuptools-75.1.0.20240917 typing-inspect-0.9.0 xmod-1.8.1\n",
      "Note: you may need to restart the kernel to use updated packages.\n"
     ]
    }
   ],
   "source": [
    "%pip install crunch-cli==4.0.0b5"
   ]
  },
  {
   "cell_type": "markdown",
   "metadata": {
    "id": "Jli5IWgBxOmr"
   },
   "source": [
    "### Get a token\n",
    "\n",
    "**DO NOT UPGRADE THE CLI**\n",
    "\n",
    "https://hub.crunchdao.io/competitions/enders/submit/via/notebook"
   ]
  },
  {
   "cell_type": "code",
   "execution_count": 3,
   "metadata": {
    "colab": {
     "base_uri": "https://localhost:8080/"
    },
    "id": "V66vrN6GxGUV",
    "outputId": "83418569-6782-492b-d631-d7b259f15e89"
   },
   "outputs": [
    {
     "name": "stdout",
     "output_type": "stream",
     "text": [
      "you appear to have never submitted code before\n",
      "download data/X_train.parquet from https:crunchdao--competition--staging.s3.eu-west-1.amazonaws.com/data-releases/71/X_train.parquet (1527571 bytes)\n",
      "download data/y_train.parquet from https:crunchdao--competition--staging.s3.eu-west-1.amazonaws.com/data-releases/71/y_train.parquet (1251294 bytes)\n",
      "download data/X_test.parquet from https:crunchdao--competition--staging.s3.eu-west-1.amazonaws.com/data-releases/71/X_test_reduced.parquet (162262 bytes)\n",
      "download data/y_test.parquet from https:crunchdao--competition--staging.s3.eu-west-1.amazonaws.com/data-releases/71/y_test_reduced.parquet (165953 bytes)\n",
      "download data/example_prediction.parquet from https:crunchdao--competition--staging.s3.eu-west-1.amazonaws.com/data-releases/71/example_prediction_reduced.parquet (165953 bytes)\n",
      "                                                                                \n",
      "---\n",
      "Success! Your environment has been correctly setup.\n",
      "Next recommended actions:\n",
      " - To see all of the available commands of the CrunchDAO CLI, run: crunch --help\n"
     ]
    }
   ],
   "source": [
    "!crunch setup --notebook enders test-antoine --token vMoYPa3EAvuKrWOewdYpgrqJ9ij8pMyabG4fX40NpZZDYg2oBxslXd13r2qsHtuW"
   ]
  },
  {
   "cell_type": "markdown",
   "metadata": {
    "id": "ASNyl4BwxwjY"
   },
   "source": [
    "## The submission"
   ]
  },
  {
   "cell_type": "code",
   "execution_count": 4,
   "metadata": {
    "colab": {
     "base_uri": "https://localhost:8080/"
    },
    "id": "EgSt9_JrxniJ",
    "outputId": "7677b604-8d6a-4ea6-baa9-b94779235301"
   },
   "outputs": [
    {
     "name": "stdout",
     "output_type": "stream",
     "text": [
      "loaded inline runner with module: <module '__main__'>\n"
     ]
    }
   ],
   "source": [
    "import typing\n",
    "import random\n",
    "\n",
    "import crunch\n",
    "crunch = crunch.load_notebook()"
   ]
  },
  {
   "cell_type": "code",
   "execution_count": 10,
   "metadata": {
    "id": "bvlvg3ICxzwn"
   },
   "outputs": [],
   "source": [
    "def train(\n",
    "    streams: typing.List[typing.Iterable[float]]\n",
    "):\n",
    "    for stream in streams:\n",
    "        pass\n",
    "    print(\"training done\")"
   ]
  },
  {
   "cell_type": "code",
   "execution_count": 5,
   "metadata": {
    "id": "jiOwvPfex1v8"
   },
   "outputs": [],
   "source": [
    "def infer(\n",
    "    stream: typing.Iterator[dict],\n",
    "):\n",
    "    a = 0.01\n",
    "    running_avg: int = None\n",
    "\n",
    "    yield  # mark as ready\n",
    "\n",
    "    for d in stream:\n",
    "        x= d[\"x\"]\n",
    "        # tick\n",
    "        if running_avg is None:\n",
    "            running_avg = x\n",
    "        else:\n",
    "            running_avg = (1 - a) * running_avg + a * x\n",
    "\n",
    "        # predict\n",
    "        if x > running_avg + 2:\n",
    "            yield -1\n",
    "        elif x < running_avg - 2:\n",
    "            yield 1\n",
    "        else:\n",
    "            # yield 0\n",
    "            yield random.randint(-1, 1)"
   ]
  },
  {
   "cell_type": "code",
   "execution_count": 11,
   "metadata": {
    "colab": {
     "base_uri": "https://localhost:8080/",
     "height": 1000
    },
    "collapsed": true,
    "id": "njNsjgOTx9tV",
    "jupyter": {
     "outputs_hidden": true
    },
    "outputId": "0ffe8cc1-5136-4107-b91a-72348903c3a5"
   },
   "outputs": [
    {
     "name": "stderr",
     "output_type": "stream",
     "text": [
      "09:24:14 no forbidden library found\n",
      "09:24:14 \n",
      "09:24:14 started\n",
      "09:24:14 running local test\n",
      "09:24:14 internet access isn't restricted, no check will be done\n",
      "09:24:14 \n",
      "09:24:16 starting stream loop...\n",
      "09:24:16 call: train - stream.len=80\n",
      "09:24:16 looping stream=`aud-jpy` (1/20)\n"
     ]
    },
    {
     "name": "stdout",
     "output_type": "stream",
     "text": [
      "download data/X_train.parquet from https:crunchdao--competition--staging.s3.eu-west-1.amazonaws.com/data-releases/71/X_train.parquet (1527571 bytes)\n",
      "already exists: file length match\n",
      "download data/y_train.parquet from https:crunchdao--competition--staging.s3.eu-west-1.amazonaws.com/data-releases/71/y_train.parquet (1251294 bytes)\n",
      "already exists: file length match\n",
      "download data/X_test.parquet from https:crunchdao--competition--staging.s3.eu-west-1.amazonaws.com/data-releases/71/X_test_reduced.parquet (162262 bytes)\n",
      "already exists: file length match\n",
      "download data/y_test.parquet from https:crunchdao--competition--staging.s3.eu-west-1.amazonaws.com/data-releases/71/y_test_reduced.parquet (165953 bytes)\n",
      "already exists: file length match\n",
      "download data/example_prediction.parquet from https:crunchdao--competition--staging.s3.eu-west-1.amazonaws.com/data-releases/71/example_prediction_reduced.parquet (165953 bytes)\n",
      "already exists: file length match\n",
      "training done\n"
     ]
    },
    {
     "name": "stderr",
     "output_type": "stream",
     "text": [
      "09:24:16 call: infer (1/1)\n",
      "09:24:16 looping stream=`aud-nzd` (2/20)\n",
      "09:24:16 call: infer (1/1)\n",
      "09:24:16 looping stream=`aud-usd` (3/20)\n",
      "09:24:16 call: infer (1/1)\n",
      "09:24:16 looping stream=`eur-aud` (4/20)\n",
      "09:24:16 call: infer (1/1)\n",
      "09:24:16 looping stream=`eur-chf` (5/20)\n",
      "09:24:16 call: infer (1/1)\n",
      "09:24:16 looping stream=`eur-gbp` (6/20)\n",
      "09:24:16 call: infer (1/1)\n",
      "09:24:16 looping stream=`eur-jpy` (7/20)\n",
      "09:24:16 call: infer (1/1)\n",
      "09:24:16 looping stream=`eur-nok` (8/20)\n",
      "09:24:16 call: infer (1/1)\n",
      "09:24:16 looping stream=`eur-usd` (9/20)\n",
      "09:24:16 call: infer (1/1)\n",
      "09:24:16 looping stream=`gbp-aud` (10/20)\n",
      "09:24:17 call: infer (1/1)\n",
      "09:24:17 looping stream=`gbp-jpy` (11/20)\n",
      "09:24:17 call: infer (1/1)\n",
      "09:24:17 looping stream=`gbp-usd` (12/20)\n",
      "09:24:17 call: infer (1/1)\n",
      "09:24:17 looping stream=`nzd-jpy` (13/20)\n",
      "09:24:17 call: infer (1/1)\n",
      "09:24:17 looping stream=`nzd-usd` (14/20)\n",
      "09:24:17 call: infer (1/1)\n",
      "09:24:17 looping stream=`usd-cad` (15/20)\n",
      "09:24:17 call: infer (1/1)\n",
      "09:24:17 looping stream=`usd-chf` (16/20)\n",
      "09:24:17 call: infer (1/1)\n",
      "09:24:17 looping stream=`usd-jpy` (17/20)\n",
      "09:24:17 call: infer (1/1)\n",
      "09:24:17 looping stream=`usd-mxn` (18/20)\n",
      "09:24:17 call: infer (1/1)\n",
      "09:24:17 looping stream=`usd-sgd` (19/20)\n",
      "09:24:17 call: infer (1/1)\n",
      "09:24:17 looping stream=`usd-zar` (20/20)\n",
      "09:24:17 call: infer (1/1)\n",
      "09:24:17 save prediction - path=data/prediction.csv\n",
      "09:24:18 prediction is valid\n",
      "09:24:18 ended\n",
      "09:24:18 duration - time=00:00:03\n",
      "09:24:18 memory - before=\"278.51 MB\" after=\"304.07 MB\" consumed=\"25.56 MB\"\n"
     ]
    }
   ],
   "source": [
    "prediction = crunch.test(\n",
    "    no_determinism_check=True\n",
    ")"
   ]
  },
  {
   "cell_type": "code",
   "execution_count": 29,
   "metadata": {},
   "outputs": [
    {
     "name": "stdout",
     "output_type": "stream",
     "text": [
      "download data/X_train.parquet from https:crunchdao--competition--staging.s3.eu-west-1.amazonaws.com/data-releases/71/X_train.parquet (1527571 bytes)\n",
      "already exists: file length match\n",
      "download data/y_train.parquet from https:crunchdao--competition--staging.s3.eu-west-1.amazonaws.com/data-releases/71/y_train.parquet (1251294 bytes)\n",
      "already exists: file length match\n",
      "download data/X_test.parquet from https:crunchdao--competition--staging.s3.eu-west-1.amazonaws.com/data-releases/71/X_test_reduced.parquet (162262 bytes)\n",
      "already exists: file length match\n",
      "download data/y_test.parquet from https:crunchdao--competition--staging.s3.eu-west-1.amazonaws.com/data-releases/71/y_test_reduced.parquet (165953 bytes)\n",
      "already exists: file length match\n",
      "download data/example_prediction.parquet from https:crunchdao--competition--staging.s3.eu-west-1.amazonaws.com/data-releases/71/example_prediction_reduced.parquet (165953 bytes)\n",
      "already exists: file length match\n"
     ]
    }
   ],
   "source": [
    "streams, _ = crunch.load_streams()"
   ]
  },
  {
   "cell_type": "code",
   "execution_count": 14,
   "metadata": {},
   "outputs": [],
   "source": [
    "%load_ext autoreload\n",
    "%autoreload 2"
   ]
  },
  {
   "cell_type": "code",
   "execution_count": 47,
   "metadata": {},
   "outputs": [],
   "source": [
    "from endersgame.widgets import replay"
   ]
  },
  {
   "cell_type": "code",
   "execution_count": 54,
   "metadata": {},
   "outputs": [
    {
     "data": {
      "application/vnd.jupyter.widget-view+json": {
       "model_id": "bf74e169a8fb43c1ad49a4c63ebe58a5",
       "version_major": 2,
       "version_minor": 0
      },
      "text/plain": [
       "HTML(value='\\n<style>\\n    .table { \\n        width: 100%; \\n        margin-bottom: 1rem; \\n        background…"
      ]
     },
     "metadata": {},
     "output_type": "display_data"
    },
    {
     "data": {
      "image/png": "[encoded data removed]",
      "text/plain": [
       "<Figure size 640x480 with 1 Axes>"
      ]
     },
     "metadata": {},
     "output_type": "display_data"
    },
    {
     "data": {
      "image/png": "[encoded data removed]",
      "text/plain": [
       "<Figure size 640x480 with 1 Axes>"
      ]
     },
     "metadata": {},
     "output_type": "display_data"
    },
    {
     "name": "stderr",
     "output_type": "stream",
     "text": [
      "\n",
      "KeyboardInterrupt\n",
      "\n"
     ]
    }
   ],
   "source": [
    "replay(streams)"
   ]
  },
  {
   "cell_type": "code",
   "execution_count": 44,
   "metadata": {},
   "outputs": [
    {
     "name": "stdout",
     "output_type": "stream",
     "text": [
      "['Solarize_Light2', '_classic_test_patch', '_mpl-gallery', '_mpl-gallery-nogrid', 'bmh', 'classic', 'dark_background', 'fast', 'fivethirtyeight', 'ggplot', 'grayscale', 'seaborn-v0_8', 'seaborn-v0_8-bright', 'seaborn-v0_8-colorblind', 'seaborn-v0_8-dark', 'seaborn-v0_8-dark-palette', 'seaborn-v0_8-darkgrid', 'seaborn-v0_8-deep', 'seaborn-v0_8-muted', 'seaborn-v0_8-notebook', 'seaborn-v0_8-paper', 'seaborn-v0_8-pastel', 'seaborn-v0_8-poster', 'seaborn-v0_8-talk', 'seaborn-v0_8-ticks', 'seaborn-v0_8-white', 'seaborn-v0_8-whitegrid', 'tableau-colorblind10']\n"
     ]
    }
   ],
   "source": [
    "from matplotlib import style\n",
    "\n",
    "print(style.available)"
   ]
  },
  {
   "cell_type": "code",
   "execution_count": null,
   "metadata": {},
   "outputs": [],
   "source": []
  }
 ],
 "metadata": {
  "colab": {
   "provenance": []
  },
  "kernelspec": {
   "display_name": "Python 3 (ipykernel)",
   "language": "python",
   "name": "python3"
  },
  "language_info": {
   "codemirror_mode": {
    "name": "ipython",
    "version": 3
   },
   "file_extension": ".py",
   "mimetype": "text/x-python",
   "name": "python",
   "nbconvert_exporter": "python",
   "pygments_lexer": "ipython3",
   "version": "3.9.20"
  }
 },
 "nbformat": 4,
 "nbformat_minor": 4
}
