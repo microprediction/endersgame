{
 "cells": [
  {
   "cell_type": "code",
   "execution_count": null,
   "id": "a77a377e-e07a-4af8-a64a-dfad0dc38719",
   "metadata": {
    "ExecuteTime": {
     "end_time": "2024-09-22T20:46:43.192953Z",
     "start_time": "2024-09-22T20:46:43.160177Z"
    }
   },
   "outputs": [],
   "source": [
    "%load_ext autoreload\n",
    "%autoreload 2"
   ]
  },
  {
   "cell_type": "code",
   "execution_count": null,
   "id": "d06f6a81-d54a-45bf-aa07-88234c0de5f5",
   "metadata": {
    "ExecuteTime": {
     "end_time": "2024-09-22T20:46:44.100134Z",
     "start_time": "2024-09-22T20:46:43.236733Z"
    }
   },
   "outputs": [],
   "source": [
    "from endersgame.bot import Bot\n",
    "from endersgame.bot.attacker import RandomAttacker, UpAttacker\n",
    "from endersgame.bot.visualization import TimeSeriesVisualizer\n",
    "from endersgame.bot.accounting import AccountingDataVisualizer"
   ]
  },
  {
   "cell_type": "code",
   "execution_count": null,
   "id": "4f0b7a6c-e139-4050-a72d-32f07c1a33d6",
   "metadata": {},
   "outputs": [],
   "source": [
    "# Use same Base Model for all substream\n",
    "# bot = Bot(base_url=\"http://localhost:8989\", model=Attacker)\n",
    "bot = Bot(base_url=\"http://localhost:8989\")\n",
    "bot.with_model(\"EUR\", RandomAttacker())\n",
    "bot.with_model(\"USD\", UpAttacker())\n",
    "bot.login(user_id='antoine')\n",
    "bot.register(stream='currency')"
   ]
  },
  {
   "cell_type": "code",
   "execution_count": null,
   "id": "23a89cd4-58d3-4f77-9f40-4b73cca732dc",
   "metadata": {},
   "outputs": [],
   "source": [
    "bot.connect()"
   ]
  },
  {
   "cell_type": "code",
   "execution_count": null,
   "id": "3d704777-1be3-4661-ae1d-3f4dbe2dc968",
   "metadata": {},
   "outputs": [],
   "source": [
    "from endersgame.accounting.simplepnl import SimplePnL\n",
    "accounting = AccountingDataVisualizer(SimplePnL)\n",
    "bot.with_substream_sink(\"USD\", accounting)\n",
    "bot.with_substream_sink(\"EUR\", accounting)"
   ]
  },
  {
   "cell_type": "code",
   "execution_count": null,
   "id": "06c4a322-8e6a-417e-9f5f-bc65bacdd436",
   "metadata": {},
   "outputs": [],
   "source": [
    "bot.with_substream_sink(\"USD\", TimeSeriesVisualizer())\n",
    "bot.with_substream_sink(\"EUR\", TimeSeriesVisualizer())"
   ]
  },
  {
   "cell_type": "code",
   "execution_count": null,
   "id": "c79b8ee0-2a3a-4ebd-8534-19c3b57f9ab1",
   "metadata": {},
   "outputs": [],
   "source": [
    "bot.disconnect()"
   ]
  },
  {
   "cell_type": "code",
   "execution_count": null,
   "id": "3c977685-7dd5-4bf9-9a67-fc251926b4e1",
   "metadata": {},
   "outputs": [],
   "source": [
    "import matplotlib.pyplot as plt\n",
    "\n",
    "print(plt.style.available)"
   ]
  },
  {
   "cell_type": "code",
   "execution_count": null,
   "id": "b24a39d3-75b9-406b-942d-fcf6190084df",
   "metadata": {},
   "outputs": [],
   "source": []
  }
 ],
 "metadata": {
  "kernelspec": {
   "display_name": "Python 3 (ipykernel)",
   "language": "python",
   "name": "python3"
  },
  "language_info": {
   "codemirror_mode": {
    "name": "ipython",
    "version": 3
   },
   "file_extension": ".py",
   "mimetype": "text/x-python",
   "name": "python",
   "nbconvert_exporter": "python",
   "pygments_lexer": "ipython3",
   "version": "3.10.13"
  }
 },
 "nbformat": 4,
 "nbformat_minor": 5
}
