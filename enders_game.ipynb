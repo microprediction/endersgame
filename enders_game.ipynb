{
 "cells": [
  {
   "cell_type": "markdown",
   "metadata": {
    "id": "zo73IM6nxSJW"
   },
   "source": [
    "## Prepare the staging environment"
   ]
  },
  {
   "cell_type": "code",
   "execution_count": 1,
   "metadata": {
    "colab": {
     "base_uri": "https://localhost:8080/"
    },
    "id": "jfWDeX6FwWiE",
    "outputId": "3094efc2-e520-41a8-9bf0-6fbb2503c1c3"
   },
   "outputs": [
    {
     "name": "stdout",
     "output_type": "stream",
     "text": [
      "env: WEB_BASE_URL=https://hub.crunchdao.io\n",
      "env: API_BASE_URL=http://api.hub.crunchdao.io\n"
     ]
    }
   ],
   "source": [
    "%env WEB_BASE_URL=https://hub.crunchdao.io\n",
    "%env API_BASE_URL=http://api.hub.crunchdao.io"
   ]
  },
  {
   "cell_type": "code",
   "execution_count": 2,
   "metadata": {
    "id": "rSQqZYDsw1Fy"
   },
   "outputs": [
    {
     "name": "stdout",
     "output_type": "stream",
     "text": [
      "\u001b[33mDEPRECATION: Configuring installation scheme with distutils config files is deprecated and will no longer work in the near future. If you are using a Homebrew or Linuxbrew Python, please see discussion at https://github.com/Homebrew/homebrew-core/issues/76621\u001b[0m\u001b[33m\n",
      "\u001b[0mRequirement already satisfied: crunch-cli==4.0.0b5 in /usr/local/lib/python3.9/site-packages (4.0.0b5)\n",
      "Requirement already satisfied: astor in /usr/local/lib/python3.9/site-packages (from crunch-cli==4.0.0b5) (0.8.1)\n",
      "Requirement already satisfied: click in /usr/local/lib/python3.9/site-packages (from crunch-cli==4.0.0b5) (8.1.3)\n",
      "Requirement already satisfied: coloredlogs in /usr/local/lib/python3.9/site-packages (from crunch-cli==4.0.0b5) (15.0.1)\n",
      "Requirement already satisfied: dataclasses-json in /usr/local/lib/python3.9/site-packages (from crunch-cli==4.0.0b5) (0.6.7)\n",
      "Requirement already satisfied: gitignorefile in /usr/local/lib/python3.9/site-packages (from crunch-cli==4.0.0b5) (1.1.2)\n",
      "Requirement already satisfied: humanfriendly in /usr/local/lib/python3.9/site-packages (from crunch-cli==4.0.0b5) (10.0)\n",
      "Requirement already satisfied: inflection in /usr/local/lib/python3.9/site-packages (from crunch-cli==4.0.0b5) (0.5.1)\n",
      "Requirement already satisfied: inquirer in /usr/local/lib/python3.9/site-packages (from crunch-cli==4.0.0b5) (3.4.0)\n",
      "Requirement already satisfied: joblib in /usr/local/lib/python3.9/site-packages (from crunch-cli==4.0.0b5) (1.4.2)\n",
      "Requirement already satisfied: networkx in /usr/local/lib/python3.9/site-packages (from crunch-cli==4.0.0b5) (3.2.1)\n",
      "Requirement already satisfied: packaging in /usr/local/lib/python3.9/site-packages (from crunch-cli==4.0.0b5) (24.1)\n",
      "Requirement already satisfied: pandas in /usr/local/lib/python3.9/site-packages (from crunch-cli==4.0.0b5) (2.2.3)\n",
      "Requirement already satisfied: psutil in /usr/local/lib/python3.9/site-packages (from crunch-cli==4.0.0b5) (6.0.0)\n",
      "Requirement already satisfied: pyarrow in /usr/local/lib/python3.9/site-packages (from crunch-cli==4.0.0b5) (17.0.0)\n",
      "Requirement already satisfied: pytest in /usr/local/lib/python3.9/site-packages (from crunch-cli==4.0.0b5) (7.1.2)\n",
      "Requirement already satisfied: python-dotenv in /usr/local/lib/python3.9/site-packages (from crunch-cli==4.0.0b5) (1.0.1)\n",
      "Requirement already satisfied: requests in /usr/local/lib/python3.9/site-packages (from crunch-cli==4.0.0b5) (2.32.3)\n",
      "Requirement already satisfied: requests-toolbelt in /usr/local/lib/python3.9/site-packages (from crunch-cli==4.0.0b5) (1.0.0)\n",
      "Requirement already satisfied: requirements-parser in /usr/local/lib/python3.9/site-packages (from crunch-cli==4.0.0b5) (0.11.0)\n",
      "Requirement already satisfied: scikit-learn in /usr/local/lib/python3.9/site-packages (from crunch-cli==4.0.0b5) (1.5.2)\n",
      "Requirement already satisfied: scipy in /usr/local/lib/python3.9/site-packages (from crunch-cli==4.0.0b5) (1.13.1)\n",
      "Requirement already satisfied: sseclient-py in /usr/local/lib/python3.9/site-packages (from crunch-cli==4.0.0b5) (1.8.0)\n",
      "Requirement already satisfied: tqdm in /usr/local/lib/python3.9/site-packages (from crunch-cli==4.0.0b5) (4.66.5)\n",
      "Requirement already satisfied: marshmallow<4.0.0,>=3.18.0 in /usr/local/lib/python3.9/site-packages (from dataclasses-json->crunch-cli==4.0.0b5) (3.22.0)\n",
      "Requirement already satisfied: typing-inspect<1,>=0.4.0 in /usr/local/lib/python3.9/site-packages (from dataclasses-json->crunch-cli==4.0.0b5) (0.9.0)\n",
      "Requirement already satisfied: blessed>=1.19.0 in /usr/local/lib/python3.9/site-packages (from inquirer->crunch-cli==4.0.0b5) (1.20.0)\n",
      "Requirement already satisfied: editor>=1.6.0 in /usr/local/lib/python3.9/site-packages (from inquirer->crunch-cli==4.0.0b5) (1.6.6)\n",
      "Requirement already satisfied: readchar>=4.2.0 in /usr/local/lib/python3.9/site-packages (from inquirer->crunch-cli==4.0.0b5) (4.2.0)\n",
      "Requirement already satisfied: numpy>=1.22.4 in /usr/local/lib/python3.9/site-packages (from pandas->crunch-cli==4.0.0b5) (1.26.4)\n",
      "Requirement already satisfied: python-dateutil>=2.8.2 in /usr/local/lib/python3.9/site-packages (from pandas->crunch-cli==4.0.0b5) (2.9.0.post0)\n",
      "Requirement already satisfied: pytz>=2020.1 in /usr/local/lib/python3.9/site-packages (from pandas->crunch-cli==4.0.0b5) (2024.2)\n",
      "Requirement already satisfied: tzdata>=2022.7 in /usr/local/lib/python3.9/site-packages (from pandas->crunch-cli==4.0.0b5) (2024.1)\n",
      "Requirement already satisfied: attrs>=19.2.0 in /usr/local/lib/python3.9/site-packages (from pytest->crunch-cli==4.0.0b5) (24.2.0)\n",
      "Requirement already satisfied: iniconfig in /usr/local/lib/python3.9/site-packages (from pytest->crunch-cli==4.0.0b5) (1.1.1)\n",
      "Requirement already satisfied: pluggy<2.0,>=0.12 in /usr/local/lib/python3.9/site-packages (from pytest->crunch-cli==4.0.0b5) (1.0.0)\n",
      "Requirement already satisfied: py>=1.8.2 in /usr/local/lib/python3.9/site-packages (from pytest->crunch-cli==4.0.0b5) (1.11.0)\n",
      "Requirement already satisfied: tomli>=1.0.0 in /usr/local/lib/python3.9/site-packages (from pytest->crunch-cli==4.0.0b5) (2.0.1)\n",
      "Requirement already satisfied: charset-normalizer<4,>=2 in /usr/local/lib/python3.9/site-packages (from requests->crunch-cli==4.0.0b5) (3.3.2)\n",
      "Requirement already satisfied: idna<4,>=2.5 in /usr/local/lib/python3.9/site-packages (from requests->crunch-cli==4.0.0b5) (3.10)\n",
      "Requirement already satisfied: urllib3<3,>=1.21.1 in /usr/local/lib/python3.9/site-packages (from requests->crunch-cli==4.0.0b5) (2.2.3)\n",
      "Requirement already satisfied: certifi>=2017.4.17 in /usr/local/lib/python3.9/site-packages (from requests->crunch-cli==4.0.0b5) (2024.8.30)\n",
      "Requirement already satisfied: types-setuptools>=69.1.0 in /usr/local/lib/python3.9/site-packages (from requirements-parser->crunch-cli==4.0.0b5) (75.1.0.20240917)\n",
      "Requirement already satisfied: threadpoolctl>=3.1.0 in /usr/local/lib/python3.9/site-packages (from scikit-learn->crunch-cli==4.0.0b5) (3.5.0)\n",
      "Requirement already satisfied: wcwidth>=0.1.4 in /usr/local/lib/python3.9/site-packages (from blessed>=1.19.0->inquirer->crunch-cli==4.0.0b5) (0.2.13)\n",
      "Requirement already satisfied: six>=1.9.0 in /usr/local/lib/python3.9/site-packages (from blessed>=1.19.0->inquirer->crunch-cli==4.0.0b5) (1.16.0)\n",
      "Requirement already satisfied: runs in /usr/local/lib/python3.9/site-packages (from editor>=1.6.0->inquirer->crunch-cli==4.0.0b5) (1.2.2)\n",
      "Requirement already satisfied: xmod in /usr/local/lib/python3.9/site-packages (from editor>=1.6.0->inquirer->crunch-cli==4.0.0b5) (1.8.1)\n",
      "Requirement already satisfied: mypy-extensions>=0.3.0 in /usr/local/lib/python3.9/site-packages (from typing-inspect<1,>=0.4.0->dataclasses-json->crunch-cli==4.0.0b5) (1.0.0)\n",
      "Requirement already satisfied: typing-extensions>=3.7.4 in /usr/local/lib/python3.9/site-packages (from typing-inspect<1,>=0.4.0->dataclasses-json->crunch-cli==4.0.0b5) (4.12.2)\n",
      "\u001b[33mDEPRECATION: Configuring installation scheme with distutils config files is deprecated and will no longer work in the near future. If you are using a Homebrew or Linuxbrew Python, please see discussion at https://github.com/Homebrew/homebrew-core/issues/76621\u001b[0m\u001b[33m\n",
      "\u001b[0mNote: you may need to restart the kernel to use updated packages.\n"
     ]
    }
   ],
   "source": [
    "%pip install crunch-cli==4.0.0b5"
   ]
  },
  {
   "cell_type": "markdown",
   "metadata": {
    "id": "Jli5IWgBxOmr"
   },
   "source": [
    "### Get a token\n",
    "\n",
    "**DO NOT UPGRADE THE CLI**\n",
    "\n",
    "https://hub.crunchdao.io/competitions/enders/submit/via/notebook"
   ]
  },
  {
   "cell_type": "code",
   "execution_count": 7,
   "metadata": {
    "colab": {
     "base_uri": "https://localhost:8080/"
    },
    "id": "V66vrN6GxGUV",
    "outputId": "83418569-6782-492b-d631-d7b259f15e89"
   },
   "outputs": [
    {
     "name": "stdout",
     "output_type": "stream",
     "text": [
      "delete ./.crunchdao\n",
      "you appear to have never submitted code before\n",
      "download data/X_train.parquet from https:crunchdao--competition--staging.s3.eu-west-1.amazonaws.com/data-releases/71/X_train.parquet (1527571 bytes)\n",
      "download data/y_train.parquet from https:crunchdao--competition--staging.s3.eu-west-1.amazonaws.com/data-releases/71/y_train.parquet (1251294 bytes)\n",
      "download data/X_test.parquet from https:crunchdao--competition--staging.s3.eu-west-1.amazonaws.com/data-releases/71/X_test_reduced.parquet (162262 bytes)\n",
      "download data/y_test.parquet from https:crunchdao--competition--staging.s3.eu-west-1.amazonaws.com/data-releases/71/y_test_reduced.parquet (165953 bytes)\n",
      "download data/example_prediction.parquet from https:crunchdao--competition--staging.s3.eu-west-1.amazonaws.com/data-releases/71/example_prediction_reduced.parquet (165953 bytes)\n",
      "                                                                                \n",
      "---\n",
      "Success! Your environment has been correctly setup.\n",
      "Next recommended actions:\n",
      " - To see all of the available commands of the CrunchDAO CLI, run: crunch --help\n"
     ]
    }
   ],
   "source": [
    "!crunch setup --notebook enders test-antoine --token RxJ171cRIYWJSp6GUdzqdLAHSrkmudvJSxk3vSIjVgzppAfXTZPIxNbfLKZ3Ixmu"
   ]
  },
  {
   "cell_type": "markdown",
   "metadata": {
    "id": "ASNyl4BwxwjY"
   },
   "source": [
    "## The submission"
   ]
  },
  {
   "cell_type": "code",
   "execution_count": 8,
   "metadata": {
    "colab": {
     "base_uri": "https://localhost:8080/"
    },
    "id": "EgSt9_JrxniJ",
    "outputId": "7677b604-8d6a-4ea6-baa9-b94779235301"
   },
   "outputs": [
    {
     "name": "stdout",
     "output_type": "stream",
     "text": [
      "loaded inline runner with module: <module '__main__'>\n"
     ]
    }
   ],
   "source": [
    "import typing\n",
    "import random\n",
    "\n",
    "import crunch\n",
    "crunch = crunch.load_notebook()"
   ]
  },
  {
   "cell_type": "code",
   "execution_count": 9,
   "metadata": {
    "id": "bvlvg3ICxzwn"
   },
   "outputs": [],
   "source": [
    "def train(\n",
    "    streams: typing.List[typing.Iterable[float]]\n",
    "):\n",
    "    for stream in streams:\n",
    "        pass\n",
    "    print(\"training done\")"
   ]
  },
  {
   "cell_type": "code",
   "execution_count": 20,
   "metadata": {
    "id": "jiOwvPfex1v8"
   },
   "outputs": [],
   "source": [
    "def infer(\n",
    "    stream: typing.Iterator[dict],\n",
    "    horizon: int\n",
    "):\n",
    "    a = 0.01\n",
    "    running_avg: int = None\n",
    "\n",
    "    yield  # mark as ready\n",
    "\n",
    "    for d in stream:\n",
    "        x= d[\"x\"]\n",
    "        # tick\n",
    "        if running_avg is None:\n",
    "            running_avg = x\n",
    "        else:\n",
    "            running_avg = (1 - a) * running_avg + a * x\n",
    "\n",
    "        # predict\n",
    "        if x > running_avg + 2:\n",
    "            yield -1\n",
    "        elif x < running_avg - 2:\n",
    "            yield 1\n",
    "        else:\n",
    "            # yield 0\n",
    "            yield random.randint(-1, 1)"
   ]
  },
  {
   "cell_type": "code",
   "execution_count": 21,
   "metadata": {
    "colab": {
     "base_uri": "https://localhost:8080/",
     "height": 1000
    },
    "id": "njNsjgOTx9tV",
    "outputId": "0ffe8cc1-5136-4107-b91a-72348903c3a5"
   },
   "outputs": [
    {
     "name": "stderr",
     "output_type": "stream",
     "text": [
      "13:32:42 no forbidden library found\n",
      "13:32:42 \n",
      "13:32:42 started\n",
      "13:32:42 running local test\n",
      "13:32:42 internet access isn't restricted, no check will be done\n",
      "13:32:42 \n",
      "13:32:44 starting stream loop...\n"
     ]
    },
    {
     "name": "stdout",
     "output_type": "stream",
     "text": [
      "download data/X_train.parquet from https:crunchdao--competition--staging.s3.eu-west-1.amazonaws.com/data-releases/71/X_train.parquet (1527571 bytes)\n",
      "already exists: file length match\n",
      "download data/y_train.parquet from https:crunchdao--competition--staging.s3.eu-west-1.amazonaws.com/data-releases/71/y_train.parquet (1251294 bytes)\n",
      "already exists: file length match\n",
      "download data/X_test.parquet from https:crunchdao--competition--staging.s3.eu-west-1.amazonaws.com/data-releases/71/X_test_reduced.parquet (162262 bytes)\n",
      "already exists: file length match\n",
      "download data/y_test.parquet from https:crunchdao--competition--staging.s3.eu-west-1.amazonaws.com/data-releases/71/y_test_reduced.parquet (165953 bytes)\n",
      "already exists: file length match\n",
      "download data/example_prediction.parquet from https:crunchdao--competition--staging.s3.eu-west-1.amazonaws.com/data-releases/71/example_prediction_reduced.parquet (165953 bytes)\n",
      "already exists: file length match\n"
     ]
    },
    {
     "name": "stderr",
     "output_type": "stream",
     "text": [
      "13:32:44 call: train - stream.len=80\n",
      "13:32:44 looping stream=`aud-jpy` (1/20)\n",
      "13:32:44 call: infer (1/1)\n",
      "13:32:44 looping stream=`aud-nzd` (2/20)\n",
      "13:32:44 call: infer (1/1)\n",
      "13:32:44 looping stream=`aud-usd` (3/20)\n",
      "13:32:44 call: infer (1/1)\n",
      "13:32:44 looping stream=`eur-aud` (4/20)\n",
      "13:32:45 call: infer (1/1)\n",
      "13:32:45 looping stream=`eur-chf` (5/20)\n",
      "13:32:45 call: infer (1/1)\n",
      "13:32:45 looping stream=`eur-gbp` (6/20)\n",
      "13:32:45 call: infer (1/1)\n",
      "13:32:45 looping stream=`eur-jpy` (7/20)\n",
      "13:32:45 call: infer (1/1)\n",
      "13:32:45 looping stream=`eur-nok` (8/20)\n",
      "13:32:45 call: infer (1/1)\n",
      "13:32:45 looping stream=`eur-usd` (9/20)\n",
      "13:32:45 call: infer (1/1)\n",
      "13:32:45 looping stream=`gbp-aud` (10/20)\n",
      "13:32:45 call: infer (1/1)\n",
      "13:32:45 looping stream=`gbp-jpy` (11/20)\n",
      "13:32:45 call: infer (1/1)\n"
     ]
    },
    {
     "name": "stdout",
     "output_type": "stream",
     "text": [
      "training done\n"
     ]
    },
    {
     "name": "stderr",
     "output_type": "stream",
     "text": [
      "13:32:45 looping stream=`gbp-usd` (12/20)\n",
      "13:32:45 call: infer (1/1)\n",
      "13:32:45 looping stream=`nzd-jpy` (13/20)\n",
      "13:32:45 call: infer (1/1)\n",
      "13:32:45 looping stream=`nzd-usd` (14/20)\n",
      "13:32:45 call: infer (1/1)\n",
      "13:32:45 looping stream=`usd-cad` (15/20)\n",
      "13:32:45 call: infer (1/1)\n",
      "13:32:45 looping stream=`usd-chf` (16/20)\n",
      "13:32:45 call: infer (1/1)\n",
      "13:32:45 looping stream=`usd-jpy` (17/20)\n",
      "13:32:45 call: infer (1/1)\n",
      "13:32:45 looping stream=`usd-mxn` (18/20)\n",
      "13:32:45 call: infer (1/1)\n",
      "13:32:45 looping stream=`usd-sgd` (19/20)\n",
      "13:32:45 call: infer (1/1)\n",
      "13:32:45 looping stream=`usd-zar` (20/20)\n",
      "13:32:45 call: infer (1/1)\n",
      "13:32:45 save prediction - path=data/prediction.csv\n",
      "13:32:46 prediction is valid\n",
      "13:32:46 ended\n",
      "13:32:46 duration - time=00:00:03\n",
      "13:32:46 memory - before=\"157.72 MB\" after=\"253.38 MB\" consumed=\"95.66 MB\"\n"
     ]
    }
   ],
   "source": [
    "prediction = crunch.test(\n",
    "    no_determinism_check=True\n",
    ")"
   ]
  },
  {
   "cell_type": "code",
   "execution_count": 22,
   "metadata": {},
   "outputs": [
    {
     "name": "stdout",
     "output_type": "stream",
     "text": [
      "download data/X_train.parquet from https:crunchdao--competition--staging.s3.eu-west-1.amazonaws.com/data-releases/71/X_train.parquet (1527571 bytes)\n",
      "already exists: file length match\n",
      "download data/y_train.parquet from https:crunchdao--competition--staging.s3.eu-west-1.amazonaws.com/data-releases/71/y_train.parquet (1251294 bytes)\n",
      "already exists: file length match\n",
      "download data/X_test.parquet from https:crunchdao--competition--staging.s3.eu-west-1.amazonaws.com/data-releases/71/X_test_reduced.parquet (162262 bytes)\n",
      "already exists: file length match\n",
      "download data/y_test.parquet from https:crunchdao--competition--staging.s3.eu-west-1.amazonaws.com/data-releases/71/y_test_reduced.parquet (165953 bytes)\n",
      "already exists: file length match\n",
      "download data/example_prediction.parquet from https:crunchdao--competition--staging.s3.eu-west-1.amazonaws.com/data-releases/71/example_prediction_reduced.parquet (165953 bytes)\n",
      "already exists: file length match\n"
     ]
    }
   ],
   "source": [
    "streams, _ = crunch.load_streams()"
   ]
  },
  {
   "cell_type": "code",
   "execution_count": 23,
   "metadata": {},
   "outputs": [
    {
     "name": "stdout",
     "output_type": "stream",
     "text": [
      "The autoreload extension is already loaded. To reload it, use:\n",
      "  %reload_ext autoreload\n"
     ]
    }
   ],
   "source": [
    "%load_ext autoreload\n",
    "%autoreload 2"
   ]
  },
  {
   "cell_type": "code",
   "execution_count": 24,
   "metadata": {},
   "outputs": [],
   "source": [
    "from endersgame.widgets import replay"
   ]
  },
  {
   "cell_type": "code",
   "execution_count": 25,
   "metadata": {},
   "outputs": [
    {
     "data": {
      "application/vnd.jupyter.widget-view+json": {
       "model_id": "82ec0dda4dc64e2cb340ae60e4b09790",
       "version_major": 2,
       "version_minor": 0
      },
      "text/plain": [
       "HTML(value='\\n<style>\\n    .table { \\n        width: 100%; \\n        margin-bottom: 1rem; \\n        background…"
      ]
     },
     "metadata": {},
     "output_type": "display_data"
    },
    {
     "name": "stdout",
     "output_type": "stream",
     "text": [
      "{'current_ndx': 1, 'num_resolved_decisions': 0, 'total_profit': 0, 'win_loss_ratio': None, 'average_profit_per_decision': None, 'avg_profit_per_decision_std_ratio': None}\n"
     ]
    },
    {
     "data": {
      "image/png": "[encoded data removed]",
      "text/plain": [
       "<Figure size 640x480 with 1 Axes>"
      ]
     },
     "metadata": {},
     "output_type": "display_data"
    },
    {
     "name": "stdout",
     "output_type": "stream",
     "text": [
      "{'current_ndx': 2, 'num_resolved_decisions': 0, 'total_profit': 0, 'win_loss_ratio': None, 'average_profit_per_decision': None, 'avg_profit_per_decision_std_ratio': None}\n",
      "{'current_ndx': 3, 'num_resolved_decisions': 0, 'total_profit': 0, 'win_loss_ratio': None, 'average_profit_per_decision': None, 'avg_profit_per_decision_std_ratio': None}\n",
      "{'current_ndx': 4, 'num_resolved_decisions': 0, 'total_profit': 0, 'win_loss_ratio': None, 'average_profit_per_decision': None, 'avg_profit_per_decision_std_ratio': None}\n",
      "{'current_ndx': 5, 'num_resolved_decisions': 1, 'total_profit': -0.01, 'wins': 0, 'losses': 1, 'win_loss_ratio': 0.0, 'profit_per_decision': -0.01, 'standardized_profit_per_decision': inf}\n",
      "{'current_ndx': 6, 'num_resolved_decisions': 1, 'total_profit': -0.01, 'wins': 0, 'losses': 1, 'win_loss_ratio': 0.0, 'profit_per_decision': -0.01, 'standardized_profit_per_decision': inf}\n",
      "{'current_ndx': 7, 'num_resolved_decisions': 1, 'total_profit': -0.01, 'wins': 0, 'losses': 1, 'win_loss_ratio': 0.0, 'profit_per_decision': -0.01, 'standardized_profit_per_decision': inf}\n",
      "{'current_ndx': 8, 'num_resolved_decisions': 1, 'total_profit': -0.01, 'wins': 0, 'losses': 1, 'win_loss_ratio': 0.0, 'profit_per_decision': -0.01, 'standardized_profit_per_decision': inf}\n",
      "{'current_ndx': 9, 'num_resolved_decisions': 1, 'total_profit': -0.01, 'wins': 0, 'losses': 1, 'win_loss_ratio': 0.0, 'profit_per_decision': -0.01, 'standardized_profit_per_decision': inf}\n",
      "{'current_ndx': 10, 'num_resolved_decisions': 1, 'total_profit': -0.01, 'wins': 0, 'losses': 1, 'win_loss_ratio': 0.0, 'profit_per_decision': -0.01, 'standardized_profit_per_decision': inf}\n",
      "{'current_ndx': 11, 'num_resolved_decisions': 1, 'total_profit': -0.01, 'wins': 0, 'losses': 1, 'win_loss_ratio': 0.0, 'profit_per_decision': -0.01, 'standardized_profit_per_decision': inf}\n",
      "{'current_ndx': 12, 'num_resolved_decisions': 1, 'total_profit': -0.01, 'wins': 0, 'losses': 1, 'win_loss_ratio': 0.0, 'profit_per_decision': -0.01, 'standardized_profit_per_decision': inf}\n",
      "{'current_ndx': 13, 'num_resolved_decisions': 1, 'total_profit': -0.01, 'wins': 0, 'losses': 1, 'win_loss_ratio': 0.0, 'profit_per_decision': -0.01, 'standardized_profit_per_decision': inf}\n",
      "{'current_ndx': 14, 'num_resolved_decisions': 1, 'total_profit': -0.01, 'wins': 0, 'losses': 1, 'win_loss_ratio': 0.0, 'profit_per_decision': -0.01, 'standardized_profit_per_decision': inf}\n",
      "{'current_ndx': 15, 'num_resolved_decisions': 1, 'total_profit': -0.01, 'wins': 0, 'losses': 1, 'win_loss_ratio': 0.0, 'profit_per_decision': -0.01, 'standardized_profit_per_decision': inf}\n",
      "{'current_ndx': 16, 'num_resolved_decisions': 1, 'total_profit': -0.01, 'wins': 0, 'losses': 1, 'win_loss_ratio': 0.0, 'profit_per_decision': -0.01, 'standardized_profit_per_decision': inf}\n",
      "{'current_ndx': 17, 'num_resolved_decisions': 1, 'total_profit': -0.01, 'wins': 0, 'losses': 1, 'win_loss_ratio': 0.0, 'profit_per_decision': -0.01, 'standardized_profit_per_decision': inf}\n",
      "{'current_ndx': 18, 'num_resolved_decisions': 1, 'total_profit': -0.01, 'wins': 0, 'losses': 1, 'win_loss_ratio': 0.0, 'profit_per_decision': -0.01, 'standardized_profit_per_decision': inf}\n",
      "{'current_ndx': 19, 'num_resolved_decisions': 1, 'total_profit': -0.01, 'wins': 0, 'losses': 1, 'win_loss_ratio': 0.0, 'profit_per_decision': -0.01, 'standardized_profit_per_decision': inf}\n",
      "{'current_ndx': 20, 'num_resolved_decisions': 1, 'total_profit': -0.01, 'wins': 0, 'losses': 1, 'win_loss_ratio': 0.0, 'profit_per_decision': -0.01, 'standardized_profit_per_decision': inf}\n",
      "{'current_ndx': 21, 'num_resolved_decisions': 1, 'total_profit': -0.01, 'wins': 0, 'losses': 1, 'win_loss_ratio': 0.0, 'profit_per_decision': -0.01, 'standardized_profit_per_decision': inf}\n",
      "{'current_ndx': 22, 'num_resolved_decisions': 1, 'total_profit': -0.01, 'wins': 0, 'losses': 1, 'win_loss_ratio': 0.0, 'profit_per_decision': -0.01, 'standardized_profit_per_decision': inf}\n",
      "{'current_ndx': 23, 'num_resolved_decisions': 1, 'total_profit': -0.01, 'wins': 0, 'losses': 1, 'win_loss_ratio': 0.0, 'profit_per_decision': -0.01, 'standardized_profit_per_decision': inf}\n",
      "{'current_ndx': 24, 'num_resolved_decisions': 1, 'total_profit': -0.01, 'wins': 0, 'losses': 1, 'win_loss_ratio': 0.0, 'profit_per_decision': -0.01, 'standardized_profit_per_decision': inf}\n",
      "{'current_ndx': 25, 'num_resolved_decisions': 1, 'total_profit': -0.01, 'wins': 0, 'losses': 1, 'win_loss_ratio': 0.0, 'profit_per_decision': -0.01, 'standardized_profit_per_decision': inf}\n",
      "{'current_ndx': 26, 'num_resolved_decisions': 1, 'total_profit': -0.01, 'wins': 0, 'losses': 1, 'win_loss_ratio': 0.0, 'profit_per_decision': -0.01, 'standardized_profit_per_decision': inf}\n",
      "{'current_ndx': 27, 'num_resolved_decisions': 1, 'total_profit': -0.01, 'wins': 0, 'losses': 1, 'win_loss_ratio': 0.0, 'profit_per_decision': -0.01, 'standardized_profit_per_decision': inf}\n",
      "{'current_ndx': 28, 'num_resolved_decisions': 1, 'total_profit': -0.01, 'wins': 0, 'losses': 1, 'win_loss_ratio': 0.0, 'profit_per_decision': -0.01, 'standardized_profit_per_decision': inf}\n",
      "{'current_ndx': 29, 'num_resolved_decisions': 1, 'total_profit': -0.01, 'wins': 0, 'losses': 1, 'win_loss_ratio': 0.0, 'profit_per_decision': -0.01, 'standardized_profit_per_decision': inf}\n",
      "{'current_ndx': 30, 'num_resolved_decisions': 1, 'total_profit': -0.01, 'wins': 0, 'losses': 1, 'win_loss_ratio': 0.0, 'profit_per_decision': -0.01, 'standardized_profit_per_decision': inf}\n",
      "{'current_ndx': 31, 'num_resolved_decisions': 1, 'total_profit': -0.01, 'wins': 0, 'losses': 1, 'win_loss_ratio': 0.0, 'profit_per_decision': -0.01, 'standardized_profit_per_decision': inf}\n",
      "{'current_ndx': 32, 'num_resolved_decisions': 1, 'total_profit': -0.01, 'wins': 0, 'losses': 1, 'win_loss_ratio': 0.0, 'profit_per_decision': -0.01, 'standardized_profit_per_decision': inf}\n"
     ]
    },
    {
     "ename": "KeyboardInterrupt",
     "evalue": "",
     "output_type": "error",
     "traceback": [
      "\u001b[0;31m---------------------------------------------------------------------------\u001b[0m",
      "\u001b[0;31mKeyboardInterrupt\u001b[0m                         Traceback (most recent call last)",
      "Cell \u001b[0;32mIn[25], line 1\u001b[0m\n\u001b[0;32m----> 1\u001b[0m \u001b[43mreplay\u001b[49m\u001b[43m(\u001b[49m\u001b[43mstreams\u001b[49m\u001b[43m,\u001b[49m\u001b[43m \u001b[49m\u001b[38;5;241;43m5\u001b[39;49m\u001b[43m)\u001b[49m\n",
      "File \u001b[0;32m~/Development/endersgame/endersgame/widgets/replay.py:24\u001b[0m, in \u001b[0;36mreplay\u001b[0;34m(streams, horizon)\u001b[0m\n\u001b[1;32m     22\u001b[0m pred \u001b[38;5;241m=\u001b[39m Prediction(value\u001b[38;5;241m=\u001b[39mprediction, ndx\u001b[38;5;241m=\u001b[39midx\u001b[38;5;241m+\u001b[39mhorizon, horizon\u001b[38;5;241m=\u001b[39mhorizon)\n\u001b[1;32m     23\u001b[0m accounting\u001b[38;5;241m.\u001b[39mprocess(data, pred)\n\u001b[0;32m---> 24\u001b[0m \u001b[43mviz\u001b[49m\u001b[38;5;241;43m.\u001b[39;49m\u001b[43mprocess\u001b[49m\u001b[43m(\u001b[49m\u001b[43mdata\u001b[49m\u001b[43m,\u001b[49m\u001b[43m \u001b[49m\u001b[43mpred\u001b[49m\u001b[43m)\u001b[49m\n",
      "File \u001b[0;32m~/Development/endersgame/endersgame/widgets/visualization.py:86\u001b[0m, in \u001b[0;36mTimeSeriesVisualizer.process\u001b[0;34m(self, data, prediction)\u001b[0m\n\u001b[1;32m     84\u001b[0m \u001b[38;5;28;01mfor\u001b[39;00m pt, pv, val \u001b[38;5;129;01min\u001b[39;00m \u001b[38;5;28mzip\u001b[39m(\u001b[38;5;28mself\u001b[39m\u001b[38;5;241m.\u001b[39mprediction_times, \u001b[38;5;28mself\u001b[39m\u001b[38;5;241m.\u001b[39mpredictions, \u001b[38;5;28mself\u001b[39m\u001b[38;5;241m.\u001b[39mvalues):\n\u001b[1;32m     85\u001b[0m     marker, color \u001b[38;5;241m=\u001b[39m (\u001b[38;5;124m'\u001b[39m\u001b[38;5;124m^\u001b[39m\u001b[38;5;124m'\u001b[39m, \u001b[38;5;124m'\u001b[39m\u001b[38;5;124mlime\u001b[39m\u001b[38;5;124m'\u001b[39m) \u001b[38;5;28;01mif\u001b[39;00m pv \u001b[38;5;241m>\u001b[39m \u001b[38;5;241m0\u001b[39m \u001b[38;5;28;01melse\u001b[39;00m (\u001b[38;5;124m'\u001b[39m\u001b[38;5;124mv\u001b[39m\u001b[38;5;124m'\u001b[39m, \u001b[38;5;124m'\u001b[39m\u001b[38;5;124mred\u001b[39m\u001b[38;5;124m'\u001b[39m) \u001b[38;5;28;01mif\u001b[39;00m pv \u001b[38;5;241m<\u001b[39m \u001b[38;5;241m0\u001b[39m \u001b[38;5;28;01melse\u001b[39;00m (\u001b[38;5;124m'\u001b[39m\u001b[38;5;124mo\u001b[39m\u001b[38;5;124m'\u001b[39m, \u001b[38;5;124m'\u001b[39m\u001b[38;5;124mwhite\u001b[39m\u001b[38;5;124m'\u001b[39m)\n\u001b[0;32m---> 86\u001b[0m     \u001b[38;5;28;43mself\u001b[39;49m\u001b[38;5;241;43m.\u001b[39;49m\u001b[43max\u001b[49m\u001b[38;5;241;43m.\u001b[39;49m\u001b[43mscatter\u001b[49m\u001b[43m(\u001b[49m\u001b[43mpt\u001b[49m\u001b[43m,\u001b[49m\u001b[43m \u001b[49m\u001b[43mval\u001b[49m\u001b[43m,\u001b[49m\u001b[43m \u001b[49m\u001b[43mcolor\u001b[49m\u001b[38;5;241;43m=\u001b[39;49m\u001b[43mcolor\u001b[49m\u001b[43m,\u001b[49m\u001b[43m \u001b[49m\u001b[43mmarker\u001b[49m\u001b[38;5;241;43m=\u001b[39;49m\u001b[43mmarker\u001b[49m\u001b[43m,\u001b[49m\u001b[43m \u001b[49m\u001b[43mlabel\u001b[49m\u001b[38;5;241;43m=\u001b[39;49m\u001b[38;5;124;43m'\u001b[39;49m\u001b[38;5;124;43mPredicted\u001b[39;49m\u001b[38;5;124;43m'\u001b[39;49m\u001b[43m)\u001b[49m\n\u001b[1;32m     88\u001b[0m \u001b[38;5;66;03m# Adjust axis limits\u001b[39;00m\n\u001b[1;32m     89\u001b[0m all_times \u001b[38;5;241m=\u001b[39m \u001b[38;5;28mself\u001b[39m\u001b[38;5;241m.\u001b[39mtimes \u001b[38;5;241m+\u001b[39m \u001b[38;5;28mself\u001b[39m\u001b[38;5;241m.\u001b[39mprediction_times\n",
      "File \u001b[0;32m/usr/local/lib/python3.9/site-packages/matplotlib/__init__.py:1473\u001b[0m, in \u001b[0;36m_preprocess_data.<locals>.inner\u001b[0;34m(ax, data, *args, **kwargs)\u001b[0m\n\u001b[1;32m   1470\u001b[0m \u001b[38;5;129m@functools\u001b[39m\u001b[38;5;241m.\u001b[39mwraps(func)\n\u001b[1;32m   1471\u001b[0m \u001b[38;5;28;01mdef\u001b[39;00m \u001b[38;5;21minner\u001b[39m(ax, \u001b[38;5;241m*\u001b[39margs, data\u001b[38;5;241m=\u001b[39m\u001b[38;5;28;01mNone\u001b[39;00m, \u001b[38;5;241m*\u001b[39m\u001b[38;5;241m*\u001b[39mkwargs):\n\u001b[1;32m   1472\u001b[0m     \u001b[38;5;28;01mif\u001b[39;00m data \u001b[38;5;129;01mis\u001b[39;00m \u001b[38;5;28;01mNone\u001b[39;00m:\n\u001b[0;32m-> 1473\u001b[0m         \u001b[38;5;28;01mreturn\u001b[39;00m \u001b[43mfunc\u001b[49m\u001b[43m(\u001b[49m\n\u001b[1;32m   1474\u001b[0m \u001b[43m            \u001b[49m\u001b[43max\u001b[49m\u001b[43m,\u001b[49m\n\u001b[1;32m   1475\u001b[0m \u001b[43m            \u001b[49m\u001b[38;5;241;43m*\u001b[39;49m\u001b[38;5;28;43mmap\u001b[39;49m\u001b[43m(\u001b[49m\u001b[43msanitize_sequence\u001b[49m\u001b[43m,\u001b[49m\u001b[43m \u001b[49m\u001b[43margs\u001b[49m\u001b[43m)\u001b[49m\u001b[43m,\u001b[49m\n\u001b[1;32m   1476\u001b[0m \u001b[43m            \u001b[49m\u001b[38;5;241;43m*\u001b[39;49m\u001b[38;5;241;43m*\u001b[39;49m\u001b[43m{\u001b[49m\u001b[43mk\u001b[49m\u001b[43m:\u001b[49m\u001b[43m \u001b[49m\u001b[43msanitize_sequence\u001b[49m\u001b[43m(\u001b[49m\u001b[43mv\u001b[49m\u001b[43m)\u001b[49m\u001b[43m \u001b[49m\u001b[38;5;28;43;01mfor\u001b[39;49;00m\u001b[43m \u001b[49m\u001b[43mk\u001b[49m\u001b[43m,\u001b[49m\u001b[43m \u001b[49m\u001b[43mv\u001b[49m\u001b[43m \u001b[49m\u001b[38;5;129;43;01min\u001b[39;49;00m\u001b[43m \u001b[49m\u001b[43mkwargs\u001b[49m\u001b[38;5;241;43m.\u001b[39;49m\u001b[43mitems\u001b[49m\u001b[43m(\u001b[49m\u001b[43m)\u001b[49m\u001b[43m}\u001b[49m\u001b[43m)\u001b[49m\n\u001b[1;32m   1478\u001b[0m     bound \u001b[38;5;241m=\u001b[39m new_sig\u001b[38;5;241m.\u001b[39mbind(ax, \u001b[38;5;241m*\u001b[39margs, \u001b[38;5;241m*\u001b[39m\u001b[38;5;241m*\u001b[39mkwargs)\n\u001b[1;32m   1479\u001b[0m     auto_label \u001b[38;5;241m=\u001b[39m (bound\u001b[38;5;241m.\u001b[39marguments\u001b[38;5;241m.\u001b[39mget(label_namer)\n\u001b[1;32m   1480\u001b[0m                   \u001b[38;5;129;01mor\u001b[39;00m bound\u001b[38;5;241m.\u001b[39mkwargs\u001b[38;5;241m.\u001b[39mget(label_namer))\n",
      "File \u001b[0;32m/usr/local/lib/python3.9/site-packages/matplotlib/axes/_axes.py:4815\u001b[0m, in \u001b[0;36mAxes.scatter\u001b[0;34m(self, x, y, s, c, marker, cmap, norm, vmin, vmax, alpha, linewidths, edgecolors, plotnonfinite, **kwargs)\u001b[0m\n\u001b[1;32m   4811\u001b[0m     x, y, s, edgecolors, linewidths \u001b[38;5;241m=\u001b[39m \\\n\u001b[1;32m   4812\u001b[0m         cbook\u001b[38;5;241m.\u001b[39m_combine_masks(x, y, s, edgecolors, linewidths)\n\u001b[1;32m   4813\u001b[0m \u001b[38;5;28;01melse\u001b[39;00m:\n\u001b[1;32m   4814\u001b[0m     x, y, s, c, colors, edgecolors, linewidths \u001b[38;5;241m=\u001b[39m \\\n\u001b[0;32m-> 4815\u001b[0m         \u001b[43mcbook\u001b[49m\u001b[38;5;241;43m.\u001b[39;49m\u001b[43m_combine_masks\u001b[49m\u001b[43m(\u001b[49m\n\u001b[1;32m   4816\u001b[0m \u001b[43m            \u001b[49m\u001b[43mx\u001b[49m\u001b[43m,\u001b[49m\u001b[43m \u001b[49m\u001b[43my\u001b[49m\u001b[43m,\u001b[49m\u001b[43m \u001b[49m\u001b[43ms\u001b[49m\u001b[43m,\u001b[49m\u001b[43m \u001b[49m\u001b[43mc\u001b[49m\u001b[43m,\u001b[49m\u001b[43m \u001b[49m\u001b[43mcolors\u001b[49m\u001b[43m,\u001b[49m\u001b[43m \u001b[49m\u001b[43medgecolors\u001b[49m\u001b[43m,\u001b[49m\u001b[43m \u001b[49m\u001b[43mlinewidths\u001b[49m\u001b[43m)\u001b[49m\n\u001b[1;32m   4817\u001b[0m \u001b[38;5;66;03m# Unmask edgecolors if it was actually a single RGB or RGBA.\u001b[39;00m\n\u001b[1;32m   4818\u001b[0m \u001b[38;5;28;01mif\u001b[39;00m (x\u001b[38;5;241m.\u001b[39msize \u001b[38;5;129;01min\u001b[39;00m (\u001b[38;5;241m3\u001b[39m, \u001b[38;5;241m4\u001b[39m)\n\u001b[1;32m   4819\u001b[0m         \u001b[38;5;129;01mand\u001b[39;00m np\u001b[38;5;241m.\u001b[39mma\u001b[38;5;241m.\u001b[39mis_masked(edgecolors)\n\u001b[1;32m   4820\u001b[0m         \u001b[38;5;129;01mand\u001b[39;00m \u001b[38;5;129;01mnot\u001b[39;00m np\u001b[38;5;241m.\u001b[39mma\u001b[38;5;241m.\u001b[39mis_masked(orig_edgecolor)):\n",
      "File \u001b[0;32m/usr/local/lib/python3.9/site-packages/matplotlib/cbook.py:1093\u001b[0m, in \u001b[0;36m_combine_masks\u001b[0;34m(*args)\u001b[0m\n\u001b[1;32m   1091\u001b[0m     x \u001b[38;5;241m=\u001b[39m np\u001b[38;5;241m.\u001b[39masanyarray(x, dtype\u001b[38;5;241m=\u001b[39m\u001b[38;5;28mobject\u001b[39m)\n\u001b[1;32m   1092\u001b[0m \u001b[38;5;28;01mif\u001b[39;00m x\u001b[38;5;241m.\u001b[39mndim \u001b[38;5;241m==\u001b[39m \u001b[38;5;241m1\u001b[39m:\n\u001b[0;32m-> 1093\u001b[0m     x \u001b[38;5;241m=\u001b[39m \u001b[43msafe_masked_invalid\u001b[49m\u001b[43m(\u001b[49m\u001b[43mx\u001b[49m\u001b[43m)\u001b[49m\n\u001b[1;32m   1094\u001b[0m     seqlist[i] \u001b[38;5;241m=\u001b[39m \u001b[38;5;28;01mTrue\u001b[39;00m\n\u001b[1;32m   1095\u001b[0m     \u001b[38;5;28;01mif\u001b[39;00m np\u001b[38;5;241m.\u001b[39mma\u001b[38;5;241m.\u001b[39mis_masked(x):\n",
      "File \u001b[0;32m/usr/local/lib/python3.9/site-packages/matplotlib/cbook.py:740\u001b[0m, in \u001b[0;36msafe_masked_invalid\u001b[0;34m(x, copy)\u001b[0m\n\u001b[1;32m    738\u001b[0m     x \u001b[38;5;241m=\u001b[39m x\u001b[38;5;241m.\u001b[39mbyteswap(inplace\u001b[38;5;241m=\u001b[39mcopy)\u001b[38;5;241m.\u001b[39mview(x\u001b[38;5;241m.\u001b[39mdtype\u001b[38;5;241m.\u001b[39mnewbyteorder(\u001b[38;5;124m'\u001b[39m\u001b[38;5;124mN\u001b[39m\u001b[38;5;124m'\u001b[39m))\n\u001b[1;32m    739\u001b[0m \u001b[38;5;28;01mtry\u001b[39;00m:\n\u001b[0;32m--> 740\u001b[0m     xm \u001b[38;5;241m=\u001b[39m \u001b[43mnp\u001b[49m\u001b[38;5;241;43m.\u001b[39;49m\u001b[43mma\u001b[49m\u001b[38;5;241;43m.\u001b[39;49m\u001b[43mmasked_where\u001b[49m\u001b[43m(\u001b[49m\u001b[38;5;241;43m~\u001b[39;49m\u001b[43m(\u001b[49m\u001b[43mnp\u001b[49m\u001b[38;5;241;43m.\u001b[39;49m\u001b[43misfinite\u001b[49m\u001b[43m(\u001b[49m\u001b[43mx\u001b[49m\u001b[43m)\u001b[49m\u001b[43m)\u001b[49m\u001b[43m,\u001b[49m\u001b[43m \u001b[49m\u001b[43mx\u001b[49m\u001b[43m,\u001b[49m\u001b[43m \u001b[49m\u001b[43mcopy\u001b[49m\u001b[38;5;241;43m=\u001b[39;49m\u001b[38;5;28;43;01mFalse\u001b[39;49;00m\u001b[43m)\u001b[49m\n\u001b[1;32m    741\u001b[0m \u001b[38;5;28;01mexcept\u001b[39;00m \u001b[38;5;167;01mTypeError\u001b[39;00m:\n\u001b[1;32m    742\u001b[0m     \u001b[38;5;28;01mreturn\u001b[39;00m x\n",
      "File \u001b[0;32m/usr/local/lib/python3.9/site-packages/numpy/ma/core.py:1928\u001b[0m, in \u001b[0;36mmasked_where\u001b[0;34m(condition, a, copy)\u001b[0m\n\u001b[1;32m   1829\u001b[0m \u001b[38;5;250m\u001b[39m\u001b[38;5;124;03m\"\"\"\u001b[39;00m\n\u001b[1;32m   1830\u001b[0m \u001b[38;5;124;03mMask an array where a condition is met.\u001b[39;00m\n\u001b[1;32m   1831\u001b[0m \n\u001b[0;32m   (...)\u001b[0m\n\u001b[1;32m   1925\u001b[0m \n\u001b[1;32m   1926\u001b[0m \u001b[38;5;124;03m\"\"\"\u001b[39;00m\n\u001b[1;32m   1927\u001b[0m \u001b[38;5;66;03m# Make sure that condition is a valid standard-type mask.\u001b[39;00m\n\u001b[0;32m-> 1928\u001b[0m cond \u001b[38;5;241m=\u001b[39m \u001b[43mmake_mask\u001b[49m\u001b[43m(\u001b[49m\u001b[43mcondition\u001b[49m\u001b[43m,\u001b[49m\u001b[43m \u001b[49m\u001b[43mshrink\u001b[49m\u001b[38;5;241;43m=\u001b[39;49m\u001b[38;5;28;43;01mFalse\u001b[39;49;00m\u001b[43m)\u001b[49m\n\u001b[1;32m   1929\u001b[0m a \u001b[38;5;241m=\u001b[39m np\u001b[38;5;241m.\u001b[39marray(a, copy\u001b[38;5;241m=\u001b[39mcopy, subok\u001b[38;5;241m=\u001b[39m\u001b[38;5;28;01mTrue\u001b[39;00m)\n\u001b[1;32m   1931\u001b[0m (cshape, ashape) \u001b[38;5;241m=\u001b[39m (cond\u001b[38;5;241m.\u001b[39mshape, a\u001b[38;5;241m.\u001b[39mshape)\n",
      "File \u001b[0;32m/usr/local/lib/python3.9/site-packages/numpy/ma/core.py:1637\u001b[0m, in \u001b[0;36mmake_mask\u001b[0;34m(m, copy, shrink, dtype)\u001b[0m\n\u001b[1;32m   1634\u001b[0m     \u001b[38;5;28;01mreturn\u001b[39;00m np\u001b[38;5;241m.\u001b[39mones(m\u001b[38;5;241m.\u001b[39mshape, dtype\u001b[38;5;241m=\u001b[39mdtype)\n\u001b[1;32m   1636\u001b[0m \u001b[38;5;66;03m# Fill the mask in case there are missing data; turn it into an ndarray.\u001b[39;00m\n\u001b[0;32m-> 1637\u001b[0m result \u001b[38;5;241m=\u001b[39m np\u001b[38;5;241m.\u001b[39marray(\u001b[43mfilled\u001b[49m\u001b[43m(\u001b[49m\u001b[43mm\u001b[49m\u001b[43m,\u001b[49m\u001b[43m \u001b[49m\u001b[38;5;28;43;01mTrue\u001b[39;49;00m\u001b[43m)\u001b[49m, copy\u001b[38;5;241m=\u001b[39mcopy, dtype\u001b[38;5;241m=\u001b[39mdtype, subok\u001b[38;5;241m=\u001b[39m\u001b[38;5;28;01mTrue\u001b[39;00m)\n\u001b[1;32m   1638\u001b[0m \u001b[38;5;66;03m# Bas les masques !\u001b[39;00m\n\u001b[1;32m   1639\u001b[0m \u001b[38;5;28;01mif\u001b[39;00m shrink:\n",
      "File \u001b[0;32m/usr/local/lib/python3.9/site-packages/numpy/ma/core.py:633\u001b[0m, in \u001b[0;36mfilled\u001b[0;34m(a, fill_value)\u001b[0m\n\u001b[1;32m    588\u001b[0m \u001b[38;5;250m\u001b[39m\u001b[38;5;124;03m\"\"\"\u001b[39;00m\n\u001b[1;32m    589\u001b[0m \u001b[38;5;124;03mReturn input as an array with masked data replaced by a fill value.\u001b[39;00m\n\u001b[1;32m    590\u001b[0m \n\u001b[0;32m   (...)\u001b[0m\n\u001b[1;32m    630\u001b[0m \n\u001b[1;32m    631\u001b[0m \u001b[38;5;124;03m\"\"\"\u001b[39;00m\n\u001b[1;32m    632\u001b[0m \u001b[38;5;28;01mif\u001b[39;00m \u001b[38;5;28mhasattr\u001b[39m(a, \u001b[38;5;124m'\u001b[39m\u001b[38;5;124mfilled\u001b[39m\u001b[38;5;124m'\u001b[39m):\n\u001b[0;32m--> 633\u001b[0m     \u001b[38;5;28;01mreturn\u001b[39;00m \u001b[43ma\u001b[49m\u001b[38;5;241;43m.\u001b[39;49m\u001b[43mfilled\u001b[49m\u001b[43m(\u001b[49m\u001b[43mfill_value\u001b[49m\u001b[43m)\u001b[49m\n\u001b[1;32m    635\u001b[0m \u001b[38;5;28;01melif\u001b[39;00m \u001b[38;5;28misinstance\u001b[39m(a, ndarray):\n\u001b[1;32m    636\u001b[0m     \u001b[38;5;66;03m# Should we check for contiguity ? and a.flags['CONTIGUOUS']:\u001b[39;00m\n\u001b[1;32m    637\u001b[0m     \u001b[38;5;28;01mreturn\u001b[39;00m a\n",
      "File \u001b[0;32m/usr/local/lib/python3.9/site-packages/numpy/ma/core.py:3838\u001b[0m, in \u001b[0;36mMaskedArray.filled\u001b[0;34m(self, fill_value)\u001b[0m\n\u001b[1;32m   3836\u001b[0m     fill_value \u001b[38;5;241m=\u001b[39m \u001b[38;5;28mself\u001b[39m\u001b[38;5;241m.\u001b[39mfill_value\n\u001b[1;32m   3837\u001b[0m \u001b[38;5;28;01melse\u001b[39;00m:\n\u001b[0;32m-> 3838\u001b[0m     fill_value \u001b[38;5;241m=\u001b[39m _check_fill_value(fill_value, \u001b[38;5;28;43mself\u001b[39;49m\u001b[38;5;241;43m.\u001b[39;49m\u001b[43mdtype\u001b[49m)\n\u001b[1;32m   3840\u001b[0m \u001b[38;5;28;01mif\u001b[39;00m \u001b[38;5;28mself\u001b[39m \u001b[38;5;129;01mis\u001b[39;00m masked_singleton:\n\u001b[1;32m   3841\u001b[0m     \u001b[38;5;28;01mreturn\u001b[39;00m np\u001b[38;5;241m.\u001b[39masanyarray(fill_value)\n",
      "File \u001b[0;32m/usr/local/lib/python3.9/site-packages/numpy/ma/core.py:3419\u001b[0m, in \u001b[0;36mMaskedArray.dtype\u001b[0;34m(self)\u001b[0m\n\u001b[1;32m   3417\u001b[0m \u001b[38;5;129m@property\u001b[39m\n\u001b[1;32m   3418\u001b[0m \u001b[38;5;28;01mdef\u001b[39;00m \u001b[38;5;21mdtype\u001b[39m(\u001b[38;5;28mself\u001b[39m):\n\u001b[0;32m-> 3419\u001b[0m     \u001b[38;5;28;01mreturn\u001b[39;00m \u001b[38;5;28;43msuper\u001b[39;49m\u001b[43m(\u001b[49m\u001b[43m)\u001b[49m\u001b[38;5;241;43m.\u001b[39;49m\u001b[43mdtype\u001b[49m\n",
      "\u001b[0;31mKeyboardInterrupt\u001b[0m: "
     ]
    }
   ],
   "source": [
    "replay(streams, 5)"
   ]
  },
  {
   "cell_type": "code",
   "execution_count": null,
   "metadata": {},
   "outputs": [],
   "source": []
  }
 ],
 "metadata": {
  "colab": {
   "provenance": []
  },
  "kernelspec": {
   "display_name": "Python 3 (ipykernel)",
   "language": "python",
   "name": "python3"
  },
  "language_info": {
   "codemirror_mode": {
    "name": "ipython",
    "version": 3
   },
   "file_extension": ".py",
   "mimetype": "text/x-python",
   "name": "python",
   "nbconvert_exporter": "python",
   "pygments_lexer": "ipython3",
   "version": "3.9.20"
  }
 },
 "nbformat": 4,
 "nbformat_minor": 4
}
