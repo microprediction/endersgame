{
 "cells": [
  {
   "cell_type": "code",
   "execution_count": null,
   "id": "b34b3eaa-6bd8-4a80-bb8c-fee58610bf60",
   "metadata": {
    "ExecuteTime": {
     "end_time": "2024-09-22T20:46:44.100134Z",
     "start_time": "2024-09-22T20:46:43.236733Z"
    }
   },
   "outputs": [],
   "source": [
    "%load_ext autoreload\n",
    "%autoreload 2"
   ]
  },
  {
   "cell_type": "code",
   "execution_count": null,
   "id": "9465c647-539b-4aa9-abeb-2f1f06cde48e",
   "metadata": {
    "ExecuteTime": {
     "end_time": "2024-09-22T20:46:44.100134Z",
     "start_time": "2024-09-22T20:46:43.236733Z"
    }
   },
   "outputs": [],
   "source": [
    "from endersgame.attackers import UP\n",
    "\n",
    "def predict_one(x, k):\n",
    "    return UP"
   ]
  },
  {
   "cell_type": "code",
   "execution_count": null,
   "id": "05e37029-f6ae-4bd4-a637-db81284d1b5a",
   "metadata": {
    "ExecuteTime": {
     "end_time": "2024-09-22T20:46:44.100134Z",
     "start_time": "2024-09-22T20:46:43.236733Z"
    }
   },
   "outputs": [],
   "source": [
    "from endersgame.crunch import crunch"
   ]
  },
  {
   "cell_type": "code",
   "execution_count": null,
   "id": "842a83de-4a53-4628-9723-21ba10fabe71",
   "metadata": {
    "ExecuteTime": {
     "end_time": "2024-09-22T20:46:44.100134Z",
     "start_time": "2024-09-22T20:46:43.236733Z"
    }
   },
   "outputs": [],
   "source": [
    "crunch.replay(delay=1.)"
   ]
  },
  {
   "cell_type": "code",
   "execution_count": null,
   "id": "32213b5a-c0ad-4c10-a00a-bda239017174",
   "metadata": {
    "ExecuteTime": {
     "end_time": "2024-09-22T20:46:44.100134Z",
     "start_time": "2024-09-22T20:46:43.236733Z"
    }
   },
   "outputs": [],
   "source": [
    "crunch.live()"
   ]
  }
 ],
 "metadata": {
  "kernelspec": {
   "display_name": "Python 3 (ipykernel)",
   "language": "python",
   "name": "python3"
  },
  "language_info": {
   "codemirror_mode": {
    "name": "ipython",
    "version": 3
   },
   "file_extension": ".py",
   "mimetype": "text/x-python",
   "name": "python",
   "nbconvert_exporter": "python",
   "pygments_lexer": "ipython3",
   "version": "3.10.13"
  }
 },
 "nbformat": 4,
 "nbformat_minor": 5
}
