{
 "cells": [
  {
   "cell_type": "code",
   "execution_count": null,
   "id": "a77a377e-e07a-4af8-a64a-dfad0dc38719",
   "metadata": {
    "ExecuteTime": {
     "end_time": "2024-09-22T20:46:43.192953Z",
     "start_time": "2024-09-22T20:46:43.160177Z"
    }
   },
   "outputs": [],
   "source": [
    "%load_ext autoreload\n",
    "%autoreload 2"
   ]
  },
  {
   "cell_type": "code",
   "execution_count": null,
   "id": "d06f6a81-d54a-45bf-aa07-88234c0de5f5",
   "metadata": {
    "ExecuteTime": {
     "end_time": "2024-09-22T20:46:44.100134Z",
     "start_time": "2024-09-22T20:46:43.236733Z"
    }
   },
   "outputs": [],
   "source": [
    "from midone.bot import Bot\n",
    "from midone.bot.attacker import RandomAttacker, UpAttacker\n",
    "from midone.bot.visualization import TimeSeriesVisualizer\n",
    "from midone.bot.accounting import AccountingDataVisualizer"
   ]
  },
  {
   "cell_type": "code",
   "execution_count": null,
   "id": "07d50c01-3664-4663-8668-e8e0ef2c47bc",
   "metadata": {},
   "outputs": [],
   "source": [
    "# Use same Base Model for all substream\n",
    "# bot = Bot(base_url=\"http://localhost:8989\", model=Attacker)\n",
    "bot = Bot(base_url=\"http://localhost:8989\")\n",
    "bot.with_model(\"USD/CAD\", RandomAttacker())\n",
    "bot.with_model(\"EUR/CAD\", UpAttacker())"
   ]
  },
  {
   "cell_type": "code",
   "execution_count": null,
   "id": "24261ef7-c192-4960-a2eb-32b537ea2de5",
   "metadata": {},
   "outputs": [],
   "source": [
    "bot.login(user_id='antoine')\n",
    "bot.register(stream='currency')\n",
    "bot.connect()"
   ]
  },
  {
   "cell_type": "code",
   "execution_count": null,
   "id": "3d704777-1be3-4661-ae1d-3f4dbe2dc968",
   "metadata": {},
   "outputs": [],
   "source": [
    "from midone.accounting.simplepnl import SimplePnL\n",
    "accounting = AccountingDataVisualizer(SimplePnL)\n",
    "bot.with_substream_sink(\"USD/CAD\", accounting)\n",
    "bot.with_substream_sink(\"EUR/CAD\", accounting)"
   ]
  },
  {
   "cell_type": "code",
   "execution_count": null,
   "id": "06c4a322-8e6a-417e-9f5f-bc65bacdd436",
   "metadata": {},
   "outputs": [],
   "source": [
    "bot.with_substream_sink(\"USD/CAD\", TimeSeriesVisualizer())\n",
    "bot.with_substream_sink(\"EUR/CAD\", TimeSeriesVisualizer())"
   ]
  },
  {
   "cell_type": "code",
   "execution_count": null,
   "id": "c79b8ee0-2a3a-4ebd-8534-19c3b57f9ab1",
   "metadata": {},
   "outputs": [],
   "source": [
    "bot.disconnect()"
   ]
  },
  {
   "cell_type": "code",
   "execution_count": null,
   "id": "3c977685-7dd5-4bf9-9a67-fc251926b4e1",
   "metadata": {},
   "outputs": [],
   "source": [
    "from midone.bot.replay import Replay\n",
    "replay = Replay(\"currency.csv\", \"mid\")"
   ]
  },
  {
   "cell_type": "code",
   "execution_count": null,
   "id": "b24a39d3-75b9-406b-942d-fcf6190084df",
   "metadata": {},
   "outputs": [],
   "source": [
    "bot.run(replay, delay=.1)"
   ]
  },
  {
   "cell_type": "code",
   "execution_count": null,
   "id": "c7fade43-27a4-4601-9ea2-0369b614e9f9",
   "metadata": {},
   "outputs": [],
   "source": []
  },
  {
   "cell_type": "code",
   "execution_count": null,
   "id": "08c5c68b-e438-4fad-8d05-0dd937ad89f5",
   "metadata": {},
   "outputs": [],
   "source": []
  }
 ],
 "metadata": {
  "kernelspec": {
   "display_name": "Python 3 (ipykernel)",
   "language": "python",
   "name": "python3"
  },
  "language_info": {
   "codemirror_mode": {
    "name": "ipython",
    "version": 3
   },
   "file_extension": ".py",
   "mimetype": "text/x-python",
   "name": "python",
   "nbconvert_exporter": "python",
   "pygments_lexer": "ipython3",
   "version": "3.10.13"
  }
 },
 "nbformat": 4,
 "nbformat_minor": 5
}
