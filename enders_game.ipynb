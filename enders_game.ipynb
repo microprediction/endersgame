{
 "cells": [
  {
   "cell_type": "markdown",
   "metadata": {
    "id": "zo73IM6nxSJW"
   },
   "source": [
    "## Prepare the staging environment"
   ]
  },
  {
   "cell_type": "code",
   "execution_count": 1,
   "metadata": {
    "colab": {
     "base_uri": "https://localhost:8080/"
    },
    "id": "jfWDeX6FwWiE",
    "outputId": "3094efc2-e520-41a8-9bf0-6fbb2503c1c3"
   },
   "outputs": [
    {
     "name": "stdout",
     "output_type": "stream",
     "text": [
      "env: WEB_BASE_URL=https://hub.crunchdao.io\n",
      "env: API_BASE_URL=http://api.hub.crunchdao.io\n"
     ]
    }
   ],
   "source": [
    "%env WEB_BASE_URL=https://hub.crunchdao.io\n",
    "%env API_BASE_URL=http://api.hub.crunchdao.io"
   ]
  },
  {
   "cell_type": "code",
   "execution_count": 2,
   "metadata": {
    "id": "rSQqZYDsw1Fy"
   },
   "outputs": [
    {
     "name": "stdout",
     "output_type": "stream",
     "text": [
      "\u001b[33mDEPRECATION: Configuring installation scheme with distutils config files is deprecated and will no longer work in the near future. If you are using a Homebrew or Linuxbrew Python, please see discussion at https://github.com/Homebrew/homebrew-core/issues/76621\u001b[0m\u001b[33m\n",
      "\u001b[0mRequirement already satisfied: crunch-cli==4.0.0b5 in /usr/local/lib/python3.9/site-packages (4.0.0b5)\n",
      "Requirement already satisfied: astor in /usr/local/lib/python3.9/site-packages (from crunch-cli==4.0.0b5) (0.8.1)\n",
      "Requirement already satisfied: click in /usr/local/lib/python3.9/site-packages (from crunch-cli==4.0.0b5) (8.1.3)\n",
      "Requirement already satisfied: coloredlogs in /usr/local/lib/python3.9/site-packages (from crunch-cli==4.0.0b5) (15.0.1)\n",
      "Requirement already satisfied: dataclasses-json in /usr/local/lib/python3.9/site-packages (from crunch-cli==4.0.0b5) (0.6.7)\n",
      "Requirement already satisfied: gitignorefile in /usr/local/lib/python3.9/site-packages (from crunch-cli==4.0.0b5) (1.1.2)\n",
      "Requirement already satisfied: humanfriendly in /usr/local/lib/python3.9/site-packages (from crunch-cli==4.0.0b5) (10.0)\n",
      "Requirement already satisfied: inflection in /usr/local/lib/python3.9/site-packages (from crunch-cli==4.0.0b5) (0.5.1)\n",
      "Requirement already satisfied: inquirer in /usr/local/lib/python3.9/site-packages (from crunch-cli==4.0.0b5) (3.4.0)\n",
      "Requirement already satisfied: joblib in /usr/local/lib/python3.9/site-packages (from crunch-cli==4.0.0b5) (1.4.2)\n",
      "Requirement already satisfied: networkx in /usr/local/lib/python3.9/site-packages (from crunch-cli==4.0.0b5) (3.2.1)\n",
      "Requirement already satisfied: packaging in /usr/local/lib/python3.9/site-packages (from crunch-cli==4.0.0b5) (24.1)\n",
      "Requirement already satisfied: pandas in /usr/local/lib/python3.9/site-packages (from crunch-cli==4.0.0b5) (2.2.3)\n",
      "Requirement already satisfied: psutil in /usr/local/lib/python3.9/site-packages (from crunch-cli==4.0.0b5) (6.0.0)\n",
      "Requirement already satisfied: pyarrow in /usr/local/lib/python3.9/site-packages (from crunch-cli==4.0.0b5) (17.0.0)\n",
      "Requirement already satisfied: pytest in /usr/local/lib/python3.9/site-packages (from crunch-cli==4.0.0b5) (7.1.2)\n",
      "Requirement already satisfied: python-dotenv in /usr/local/lib/python3.9/site-packages (from crunch-cli==4.0.0b5) (1.0.1)\n",
      "Requirement already satisfied: requests in /usr/local/lib/python3.9/site-packages (from crunch-cli==4.0.0b5) (2.32.3)\n",
      "Requirement already satisfied: requests-toolbelt in /usr/local/lib/python3.9/site-packages (from crunch-cli==4.0.0b5) (1.0.0)\n",
      "Requirement already satisfied: requirements-parser in /usr/local/lib/python3.9/site-packages (from crunch-cli==4.0.0b5) (0.11.0)\n",
      "Requirement already satisfied: scikit-learn in /usr/local/lib/python3.9/site-packages (from crunch-cli==4.0.0b5) (1.5.2)\n",
      "Requirement already satisfied: scipy in /usr/local/lib/python3.9/site-packages (from crunch-cli==4.0.0b5) (1.13.1)\n",
      "Requirement already satisfied: sseclient-py in /usr/local/lib/python3.9/site-packages (from crunch-cli==4.0.0b5) (1.8.0)\n",
      "Requirement already satisfied: tqdm in /usr/local/lib/python3.9/site-packages (from crunch-cli==4.0.0b5) (4.66.5)\n",
      "Requirement already satisfied: marshmallow<4.0.0,>=3.18.0 in /usr/local/lib/python3.9/site-packages (from dataclasses-json->crunch-cli==4.0.0b5) (3.22.0)\n",
      "Requirement already satisfied: typing-inspect<1,>=0.4.0 in /usr/local/lib/python3.9/site-packages (from dataclasses-json->crunch-cli==4.0.0b5) (0.9.0)\n",
      "Requirement already satisfied: blessed>=1.19.0 in /usr/local/lib/python3.9/site-packages (from inquirer->crunch-cli==4.0.0b5) (1.20.0)\n",
      "Requirement already satisfied: editor>=1.6.0 in /usr/local/lib/python3.9/site-packages (from inquirer->crunch-cli==4.0.0b5) (1.6.6)\n",
      "Requirement already satisfied: readchar>=4.2.0 in /usr/local/lib/python3.9/site-packages (from inquirer->crunch-cli==4.0.0b5) (4.2.0)\n",
      "Requirement already satisfied: numpy>=1.22.4 in /usr/local/lib/python3.9/site-packages (from pandas->crunch-cli==4.0.0b5) (1.26.4)\n",
      "Requirement already satisfied: python-dateutil>=2.8.2 in /usr/local/lib/python3.9/site-packages (from pandas->crunch-cli==4.0.0b5) (2.9.0.post0)\n",
      "Requirement already satisfied: pytz>=2020.1 in /usr/local/lib/python3.9/site-packages (from pandas->crunch-cli==4.0.0b5) (2024.2)\n",
      "Requirement already satisfied: tzdata>=2022.7 in /usr/local/lib/python3.9/site-packages (from pandas->crunch-cli==4.0.0b5) (2024.1)\n",
      "Requirement already satisfied: attrs>=19.2.0 in /usr/local/lib/python3.9/site-packages (from pytest->crunch-cli==4.0.0b5) (24.2.0)\n",
      "Requirement already satisfied: iniconfig in /usr/local/lib/python3.9/site-packages (from pytest->crunch-cli==4.0.0b5) (1.1.1)\n",
      "Requirement already satisfied: pluggy<2.0,>=0.12 in /usr/local/lib/python3.9/site-packages (from pytest->crunch-cli==4.0.0b5) (1.0.0)\n",
      "Requirement already satisfied: py>=1.8.2 in /usr/local/lib/python3.9/site-packages (from pytest->crunch-cli==4.0.0b5) (1.11.0)\n",
      "Requirement already satisfied: tomli>=1.0.0 in /usr/local/lib/python3.9/site-packages (from pytest->crunch-cli==4.0.0b5) (2.0.1)\n",
      "Requirement already satisfied: charset-normalizer<4,>=2 in /usr/local/lib/python3.9/site-packages (from requests->crunch-cli==4.0.0b5) (3.3.2)\n",
      "Requirement already satisfied: idna<4,>=2.5 in /usr/local/lib/python3.9/site-packages (from requests->crunch-cli==4.0.0b5) (3.10)\n",
      "Requirement already satisfied: urllib3<3,>=1.21.1 in /usr/local/lib/python3.9/site-packages (from requests->crunch-cli==4.0.0b5) (2.2.3)\n",
      "Requirement already satisfied: certifi>=2017.4.17 in /usr/local/lib/python3.9/site-packages (from requests->crunch-cli==4.0.0b5) (2024.8.30)\n",
      "Requirement already satisfied: types-setuptools>=69.1.0 in /usr/local/lib/python3.9/site-packages (from requirements-parser->crunch-cli==4.0.0b5) (75.1.0.20240917)\n",
      "Requirement already satisfied: threadpoolctl>=3.1.0 in /usr/local/lib/python3.9/site-packages (from scikit-learn->crunch-cli==4.0.0b5) (3.5.0)\n",
      "Requirement already satisfied: wcwidth>=0.1.4 in /usr/local/lib/python3.9/site-packages (from blessed>=1.19.0->inquirer->crunch-cli==4.0.0b5) (0.2.13)\n",
      "Requirement already satisfied: six>=1.9.0 in /usr/local/lib/python3.9/site-packages (from blessed>=1.19.0->inquirer->crunch-cli==4.0.0b5) (1.16.0)\n",
      "Requirement already satisfied: runs in /usr/local/lib/python3.9/site-packages (from editor>=1.6.0->inquirer->crunch-cli==4.0.0b5) (1.2.2)\n",
      "Requirement already satisfied: xmod in /usr/local/lib/python3.9/site-packages (from editor>=1.6.0->inquirer->crunch-cli==4.0.0b5) (1.8.1)\n",
      "Requirement already satisfied: mypy-extensions>=0.3.0 in /usr/local/lib/python3.9/site-packages (from typing-inspect<1,>=0.4.0->dataclasses-json->crunch-cli==4.0.0b5) (1.0.0)\n",
      "Requirement already satisfied: typing-extensions>=3.7.4 in /usr/local/lib/python3.9/site-packages (from typing-inspect<1,>=0.4.0->dataclasses-json->crunch-cli==4.0.0b5) (4.12.2)\n",
      "\u001b[33mDEPRECATION: Configuring installation scheme with distutils config files is deprecated and will no longer work in the near future. If you are using a Homebrew or Linuxbrew Python, please see discussion at https://github.com/Homebrew/homebrew-core/issues/76621\u001b[0m\u001b[33m\n",
      "\u001b[0mNote: you may need to restart the kernel to use updated packages.\n"
     ]
    }
   ],
   "source": [
    "%pip install crunch-cli==4.0.0b5"
   ]
  },
  {
   "cell_type": "markdown",
   "metadata": {
    "id": "Jli5IWgBxOmr"
   },
   "source": [
    "### Get a token\n",
    "\n",
    "**DO NOT UPGRADE THE CLI**\n",
    "\n",
    "https://hub.crunchdao.io/competitions/enders/submit/via/notebook"
   ]
  },
  {
   "cell_type": "code",
   "execution_count": 3,
   "metadata": {
    "colab": {
     "base_uri": "https://localhost:8080/"
    },
    "id": "V66vrN6GxGUV",
    "outputId": "83418569-6782-492b-d631-d7b259f15e89"
   },
   "outputs": [
    {
     "name": "stdout",
     "output_type": "stream",
     "text": [
      "delete ./.crunchdao\n",
      "you appear to have never submitted code before\n",
      "download data/X_train.parquet from https:crunchdao--competition--staging.s3.eu-west-1.amazonaws.com/data-releases/71/X_train.parquet (1527571 bytes)\n",
      "download data/y_train.parquet from https:crunchdao--competition--staging.s3.eu-west-1.amazonaws.com/data-releases/71/y_train.parquet (1251294 bytes)\n",
      "download data/X_test.parquet from https:crunchdao--competition--staging.s3.eu-west-1.amazonaws.com/data-releases/71/X_test_reduced.parquet (162262 bytes)\n",
      "download data/y_test.parquet from https:crunchdao--competition--staging.s3.eu-west-1.amazonaws.com/data-releases/71/y_test_reduced.parquet (165953 bytes)\n",
      "download data/example_prediction.parquet from https:crunchdao--competition--staging.s3.eu-west-1.amazonaws.com/data-releases/71/example_prediction_reduced.parquet (165953 bytes)\n",
      "                                                                                \n",
      "---\n",
      "Success! Your environment has been correctly setup.\n",
      "Next recommended actions:\n",
      " - To see all of the available commands of the CrunchDAO CLI, run: crunch --help\n"
     ]
    }
   ],
   "source": [
    "!crunch setup --notebook enders test-antoine --token cMAlPAPk8LwN9DCwf7cDjiO3dbb0H1POLJVWHL6FDNIV0ri8ITUurgWU7cdnG8ph"
   ]
  },
  {
   "cell_type": "markdown",
   "metadata": {
    "id": "ASNyl4BwxwjY"
   },
   "source": [
    "## The submission"
   ]
  },
  {
   "cell_type": "code",
   "execution_count": 4,
   "metadata": {
    "colab": {
     "base_uri": "https://localhost:8080/"
    },
    "id": "EgSt9_JrxniJ",
    "outputId": "7677b604-8d6a-4ea6-baa9-b94779235301"
   },
   "outputs": [
    {
     "name": "stdout",
     "output_type": "stream",
     "text": [
      "loaded inline runner with module: <module '__main__'>\n"
     ]
    }
   ],
   "source": [
    "import typing\n",
    "import random\n",
    "\n",
    "import crunch\n",
    "crunch = crunch.load_notebook()"
   ]
  },
  {
   "cell_type": "code",
   "execution_count": 5,
   "metadata": {
    "id": "bvlvg3ICxzwn"
   },
   "outputs": [],
   "source": [
    "def train(\n",
    "    streams: typing.List[typing.Iterable[float]]\n",
    "):\n",
    "    for stream in streams:\n",
    "        pass\n",
    "    print(\"training done\")"
   ]
  },
  {
   "cell_type": "code",
   "execution_count": 6,
   "metadata": {
    "id": "jiOwvPfex1v8"
   },
   "outputs": [],
   "source": [
    "def infer(\n",
    "    stream: typing.Iterator[dict],\n",
    "    horizon: int\n",
    "):\n",
    "    a = 0.01\n",
    "    running_avg: int = None\n",
    "\n",
    "    yield  # mark as ready\n",
    "\n",
    "    for d in stream:\n",
    "        x= d[\"x\"]\n",
    "        # tick\n",
    "        if running_avg is None:\n",
    "            running_avg = x\n",
    "        else:\n",
    "            running_avg = (1 - a) * running_avg + a * x\n",
    "\n",
    "        # predict\n",
    "        if x > running_avg + 2:\n",
    "            yield -1\n",
    "        elif x < running_avg - 2:\n",
    "            yield 1\n",
    "        else:\n",
    "            # yield 0\n",
    "            yield random.randint(-1, 1)"
   ]
  },
  {
   "cell_type": "code",
   "execution_count": null,
   "metadata": {
    "colab": {
     "base_uri": "https://localhost:8080/",
     "height": 1000
    },
    "id": "njNsjgOTx9tV",
    "outputId": "0ffe8cc1-5136-4107-b91a-72348903c3a5"
   },
   "outputs": [],
   "source": [
    "prediction = crunch.test(\n",
    "    no_determinism_check=True\n",
    ")"
   ]
  },
  {
   "cell_type": "code",
   "execution_count": 7,
   "metadata": {},
   "outputs": [
    {
     "name": "stdout",
     "output_type": "stream",
     "text": [
      "download data/X_train.parquet from https:crunchdao--competition--staging.s3.eu-west-1.amazonaws.com/data-releases/71/X_train.parquet (1527571 bytes)\n",
      "already exists: file length match\n",
      "download data/y_train.parquet from https:crunchdao--competition--staging.s3.eu-west-1.amazonaws.com/data-releases/71/y_train.parquet (1251294 bytes)\n",
      "already exists: file length match\n",
      "download data/X_test.parquet from https:crunchdao--competition--staging.s3.eu-west-1.amazonaws.com/data-releases/71/X_test_reduced.parquet (162262 bytes)\n",
      "already exists: file length match\n",
      "download data/y_test.parquet from https:crunchdao--competition--staging.s3.eu-west-1.amazonaws.com/data-releases/71/y_test_reduced.parquet (165953 bytes)\n",
      "already exists: file length match\n",
      "download data/example_prediction.parquet from https:crunchdao--competition--staging.s3.eu-west-1.amazonaws.com/data-releases/71/example_prediction_reduced.parquet (165953 bytes)\n",
      "already exists: file length match\n"
     ]
    }
   ],
   "source": [
    "streams, _ = crunch.load_streams()"
   ]
  },
  {
   "cell_type": "code",
   "execution_count": 8,
   "metadata": {},
   "outputs": [],
   "source": [
    "%load_ext autoreload\n",
    "%autoreload 2"
   ]
  },
  {
   "cell_type": "code",
   "execution_count": 9,
   "metadata": {},
   "outputs": [],
   "source": [
    "from endersgame.widgets import replay"
   ]
  },
  {
   "cell_type": "code",
   "execution_count": 12,
   "metadata": {},
   "outputs": [
    {
     "data": {
      "application/vnd.jupyter.widget-view+json": {
       "model_id": "b6bc8b978f2e4a8482faf1d1c7a3054c",
       "version_major": 2,
       "version_minor": 0
      },
      "text/plain": [
       "HTML(value='\\n<style>\\n    .table { \\n        width: 100%; \\n        margin-bottom: 1rem; \\n        background…"
      ]
     },
     "metadata": {},
     "output_type": "display_data"
    },
    {
     "data": {
      "image/png": "[encoded data removed]",
      "text/plain": [
       "<Figure size 640x480 with 1 Axes>"
      ]
     },
     "metadata": {},
     "output_type": "display_data"
    },
    {
     "ename": "KeyboardInterrupt",
     "evalue": "",
     "output_type": "error",
     "traceback": [
      "\u001b[0;31m---------------------------------------------------------------------------\u001b[0m",
      "\u001b[0;31mKeyboardInterrupt\u001b[0m                         Traceback (most recent call last)",
      "Cell \u001b[0;32mIn[12], line 1\u001b[0m\n\u001b[0;32m----> 1\u001b[0m \u001b[43mreplay\u001b[49m\u001b[43m(\u001b[49m\u001b[43mstreams\u001b[49m\u001b[43m,\u001b[49m\u001b[43m \u001b[49m\u001b[38;5;241;43m2\u001b[39;49m\u001b[43m)\u001b[49m\n",
      "File \u001b[0;32m~/Development/endersgame/endersgame/widgets/replay.py:23\u001b[0m, in \u001b[0;36mreplay\u001b[0;34m(streams, horizon)\u001b[0m\n\u001b[1;32m     21\u001b[0m data \u001b[38;5;241m=\u001b[39m StreamPoint(substream_id\u001b[38;5;241m=\u001b[39mstream_id, value\u001b[38;5;241m=\u001b[39mdata_point[\u001b[38;5;124m'\u001b[39m\u001b[38;5;124mx\u001b[39m\u001b[38;5;124m'\u001b[39m], ndx\u001b[38;5;241m=\u001b[39midx)\n\u001b[1;32m     22\u001b[0m pred \u001b[38;5;241m=\u001b[39m Prediction(value\u001b[38;5;241m=\u001b[39mprediction, ndx\u001b[38;5;241m=\u001b[39midx\u001b[38;5;241m+\u001b[39mhorizon, horizon\u001b[38;5;241m=\u001b[39mhorizon)\n\u001b[0;32m---> 23\u001b[0m \u001b[43maccounting\u001b[49m\u001b[38;5;241;43m.\u001b[39;49m\u001b[43mprocess\u001b[49m\u001b[43m(\u001b[49m\u001b[43mdata\u001b[49m\u001b[43m,\u001b[49m\u001b[43m \u001b[49m\u001b[43mpred\u001b[49m\u001b[43m)\u001b[49m\n\u001b[1;32m     24\u001b[0m viz\u001b[38;5;241m.\u001b[39mprocess(data, pred)\n",
      "File \u001b[0;32m~/Development/endersgame/endersgame/widgets/accounting.py:80\u001b[0m, in \u001b[0;36mAccountingDataVisualizer.process\u001b[0;34m(self, point, prediction)\u001b[0m\n\u001b[1;32m     78\u001b[0m accountant \u001b[38;5;241m=\u001b[39m \u001b[38;5;28mself\u001b[39m\u001b[38;5;241m.\u001b[39maccountants[point\u001b[38;5;241m.\u001b[39msubstream_id]\n\u001b[1;32m     79\u001b[0m accountant\u001b[38;5;241m.\u001b[39mtick(point\u001b[38;5;241m.\u001b[39mvalue, prediction\u001b[38;5;241m.\u001b[39mhorizon, prediction\u001b[38;5;241m.\u001b[39mvalue)\n\u001b[0;32m---> 80\u001b[0m \u001b[38;5;28;43mself\u001b[39;49m\u001b[38;5;241;43m.\u001b[39;49m\u001b[43mupdate_data\u001b[49m\u001b[43m(\u001b[49m\u001b[43mpoint\u001b[49m\u001b[38;5;241;43m.\u001b[39;49m\u001b[43msubstream_id\u001b[49m\u001b[43m,\u001b[49m\u001b[43m \u001b[49m\u001b[43maccountant\u001b[49m\u001b[38;5;241;43m.\u001b[39;49m\u001b[43msummary\u001b[49m\u001b[43m(\u001b[49m\u001b[43m)\u001b[49m\u001b[43m)\u001b[49m\n\u001b[1;32m     81\u001b[0m \u001b[38;5;28mself\u001b[39m\u001b[38;5;241m.\u001b[39mupdate_display()\n",
      "File \u001b[0;32m~/Development/endersgame/endersgame/widgets/accounting.py:85\u001b[0m, in \u001b[0;36mAccountingDataVisualizer.update_data\u001b[0;34m(self, stream_id, summary)\u001b[0m\n\u001b[1;32m     83\u001b[0m \u001b[38;5;28;01mdef\u001b[39;00m \u001b[38;5;21mupdate_data\u001b[39m(\u001b[38;5;28mself\u001b[39m, stream_id: \u001b[38;5;28mstr\u001b[39m, summary: Dict):\n\u001b[1;32m     84\u001b[0m     \u001b[38;5;28;01mif\u001b[39;00m stream_id \u001b[38;5;129;01min\u001b[39;00m \u001b[38;5;28mself\u001b[39m\u001b[38;5;241m.\u001b[39mdf[\u001b[38;5;124m'\u001b[39m\u001b[38;5;124mstream_id\u001b[39m\u001b[38;5;124m'\u001b[39m]\u001b[38;5;241m.\u001b[39mvalues:\n\u001b[0;32m---> 85\u001b[0m         \u001b[38;5;28;43mself\u001b[39;49m\u001b[38;5;241;43m.\u001b[39;49m\u001b[43mdf\u001b[49m\u001b[38;5;241;43m.\u001b[39;49m\u001b[43mloc\u001b[49m\u001b[43m[\u001b[49m\u001b[38;5;28;43mself\u001b[39;49m\u001b[38;5;241;43m.\u001b[39;49m\u001b[43mdf\u001b[49m\u001b[43m[\u001b[49m\u001b[38;5;124;43m'\u001b[39;49m\u001b[38;5;124;43mstream_id\u001b[39;49m\u001b[38;5;124;43m'\u001b[39;49m\u001b[43m]\u001b[49m\u001b[43m \u001b[49m\u001b[38;5;241;43m==\u001b[39;49m\u001b[43m \u001b[49m\u001b[43mstream_id\u001b[49m\u001b[43m,\u001b[49m\u001b[43m \u001b[49m\u001b[38;5;28;43mlist\u001b[39;49m\u001b[43m(\u001b[49m\u001b[43msummary\u001b[49m\u001b[38;5;241;43m.\u001b[39;49m\u001b[43mkeys\u001b[49m\u001b[43m(\u001b[49m\u001b[43m)\u001b[49m\u001b[43m)\u001b[49m\u001b[43m]\u001b[49m \u001b[38;5;241m=\u001b[39m \u001b[38;5;28mlist\u001b[39m(summary\u001b[38;5;241m.\u001b[39mvalues())\n\u001b[1;32m     86\u001b[0m     \u001b[38;5;28;01melse\u001b[39;00m:\n\u001b[1;32m     87\u001b[0m         new_row \u001b[38;5;241m=\u001b[39m {\u001b[38;5;124m\"\u001b[39m\u001b[38;5;124mstream_id\u001b[39m\u001b[38;5;124m\"\u001b[39m: stream_id, \u001b[38;5;241m*\u001b[39m\u001b[38;5;241m*\u001b[39msummary}\n",
      "File \u001b[0;32m/usr/local/lib/python3.9/site-packages/pandas/core/indexing.py:911\u001b[0m, in \u001b[0;36m_LocationIndexer.__setitem__\u001b[0;34m(self, key, value)\u001b[0m\n\u001b[1;32m    908\u001b[0m \u001b[38;5;28mself\u001b[39m\u001b[38;5;241m.\u001b[39m_has_valid_setitem_indexer(key)\n\u001b[1;32m    910\u001b[0m iloc \u001b[38;5;241m=\u001b[39m \u001b[38;5;28mself\u001b[39m \u001b[38;5;28;01mif\u001b[39;00m \u001b[38;5;28mself\u001b[39m\u001b[38;5;241m.\u001b[39mname \u001b[38;5;241m==\u001b[39m \u001b[38;5;124m\"\u001b[39m\u001b[38;5;124miloc\u001b[39m\u001b[38;5;124m\"\u001b[39m \u001b[38;5;28;01melse\u001b[39;00m \u001b[38;5;28mself\u001b[39m\u001b[38;5;241m.\u001b[39mobj\u001b[38;5;241m.\u001b[39miloc\n\u001b[0;32m--> 911\u001b[0m \u001b[43miloc\u001b[49m\u001b[38;5;241;43m.\u001b[39;49m\u001b[43m_setitem_with_indexer\u001b[49m\u001b[43m(\u001b[49m\u001b[43mindexer\u001b[49m\u001b[43m,\u001b[49m\u001b[43m \u001b[49m\u001b[43mvalue\u001b[49m\u001b[43m,\u001b[49m\u001b[43m \u001b[49m\u001b[38;5;28;43mself\u001b[39;49m\u001b[38;5;241;43m.\u001b[39;49m\u001b[43mname\u001b[49m\u001b[43m)\u001b[49m\n",
      "File \u001b[0;32m/usr/local/lib/python3.9/site-packages/pandas/core/indexing.py:1942\u001b[0m, in \u001b[0;36m_iLocIndexer._setitem_with_indexer\u001b[0;34m(self, indexer, value, name)\u001b[0m\n\u001b[1;32m   1939\u001b[0m \u001b[38;5;66;03m# align and set the values\u001b[39;00m\n\u001b[1;32m   1940\u001b[0m \u001b[38;5;28;01mif\u001b[39;00m take_split_path:\n\u001b[1;32m   1941\u001b[0m     \u001b[38;5;66;03m# We have to operate column-wise\u001b[39;00m\n\u001b[0;32m-> 1942\u001b[0m     \u001b[38;5;28;43mself\u001b[39;49m\u001b[38;5;241;43m.\u001b[39;49m\u001b[43m_setitem_with_indexer_split_path\u001b[49m\u001b[43m(\u001b[49m\u001b[43mindexer\u001b[49m\u001b[43m,\u001b[49m\u001b[43m \u001b[49m\u001b[43mvalue\u001b[49m\u001b[43m,\u001b[49m\u001b[43m \u001b[49m\u001b[43mname\u001b[49m\u001b[43m)\u001b[49m\n\u001b[1;32m   1943\u001b[0m \u001b[38;5;28;01melse\u001b[39;00m:\n\u001b[1;32m   1944\u001b[0m     \u001b[38;5;28mself\u001b[39m\u001b[38;5;241m.\u001b[39m_setitem_single_block(indexer, value, name)\n",
      "File \u001b[0;32m/usr/local/lib/python3.9/site-packages/pandas/core/indexing.py:2016\u001b[0m, in \u001b[0;36m_iLocIndexer._setitem_with_indexer_split_path\u001b[0;34m(self, indexer, value, name)\u001b[0m\n\u001b[1;32m   2013\u001b[0m \u001b[38;5;28;01melif\u001b[39;00m \u001b[38;5;28mlen\u001b[39m(ilocs) \u001b[38;5;241m==\u001b[39m \u001b[38;5;28mlen\u001b[39m(value):\n\u001b[1;32m   2014\u001b[0m     \u001b[38;5;66;03m# We are setting multiple columns in a single row.\u001b[39;00m\n\u001b[1;32m   2015\u001b[0m     \u001b[38;5;28;01mfor\u001b[39;00m loc, v \u001b[38;5;129;01min\u001b[39;00m \u001b[38;5;28mzip\u001b[39m(ilocs, value):\n\u001b[0;32m-> 2016\u001b[0m         \u001b[38;5;28;43mself\u001b[39;49m\u001b[38;5;241;43m.\u001b[39;49m\u001b[43m_setitem_single_column\u001b[49m\u001b[43m(\u001b[49m\u001b[43mloc\u001b[49m\u001b[43m,\u001b[49m\u001b[43m \u001b[49m\u001b[43mv\u001b[49m\u001b[43m,\u001b[49m\u001b[43m \u001b[49m\u001b[43mpi\u001b[49m\u001b[43m)\u001b[49m\n\u001b[1;32m   2018\u001b[0m \u001b[38;5;28;01melif\u001b[39;00m \u001b[38;5;28mlen\u001b[39m(ilocs) \u001b[38;5;241m==\u001b[39m \u001b[38;5;241m1\u001b[39m \u001b[38;5;129;01mand\u001b[39;00m com\u001b[38;5;241m.\u001b[39mis_null_slice(pi) \u001b[38;5;129;01mand\u001b[39;00m \u001b[38;5;28mlen\u001b[39m(\u001b[38;5;28mself\u001b[39m\u001b[38;5;241m.\u001b[39mobj) \u001b[38;5;241m==\u001b[39m \u001b[38;5;241m0\u001b[39m:\n\u001b[1;32m   2019\u001b[0m     \u001b[38;5;66;03m# This is a setitem-with-expansion, see\u001b[39;00m\n\u001b[1;32m   2020\u001b[0m     \u001b[38;5;66;03m#  test_loc_setitem_empty_append_expands_rows_mixed_dtype\u001b[39;00m\n\u001b[1;32m   2021\u001b[0m     \u001b[38;5;66;03m# e.g. df = DataFrame(columns=[\"x\", \"y\"])\u001b[39;00m\n\u001b[1;32m   2022\u001b[0m     \u001b[38;5;66;03m#  df[\"x\"] = df[\"x\"].astype(np.int64)\u001b[39;00m\n\u001b[1;32m   2023\u001b[0m     \u001b[38;5;66;03m#  df.loc[:, \"x\"] = [1, 2, 3]\u001b[39;00m\n\u001b[1;32m   2024\u001b[0m     \u001b[38;5;28mself\u001b[39m\u001b[38;5;241m.\u001b[39m_setitem_single_column(ilocs[\u001b[38;5;241m0\u001b[39m], value, pi)\n",
      "File \u001b[0;32m/usr/local/lib/python3.9/site-packages/pandas/core/indexing.py:2175\u001b[0m, in \u001b[0;36m_iLocIndexer._setitem_single_column\u001b[0;34m(self, loc, value, plane_indexer)\u001b[0m\n\u001b[1;32m   2165\u001b[0m     \u001b[38;5;28;01mif\u001b[39;00m dtype \u001b[38;5;241m==\u001b[39m np\u001b[38;5;241m.\u001b[39mvoid:\n\u001b[1;32m   2166\u001b[0m         \u001b[38;5;66;03m# This means we're expanding, with multiple columns, e.g.\u001b[39;00m\n\u001b[1;32m   2167\u001b[0m         \u001b[38;5;66;03m#     df = pd.DataFrame({'A': [1,2,3], 'B': [4,5,6]})\u001b[39;00m\n\u001b[0;32m   (...)\u001b[0m\n\u001b[1;32m   2170\u001b[0m         \u001b[38;5;66;03m# Here, we replace those temporary `np.void` columns with\u001b[39;00m\n\u001b[1;32m   2171\u001b[0m         \u001b[38;5;66;03m# columns of the appropriate dtype, based on `value`.\u001b[39;00m\n\u001b[1;32m   2172\u001b[0m         \u001b[38;5;28mself\u001b[39m\u001b[38;5;241m.\u001b[39mobj\u001b[38;5;241m.\u001b[39miloc[:, loc] \u001b[38;5;241m=\u001b[39m construct_1d_array_from_inferred_fill_value(\n\u001b[1;32m   2173\u001b[0m             value, \u001b[38;5;28mlen\u001b[39m(\u001b[38;5;28mself\u001b[39m\u001b[38;5;241m.\u001b[39mobj)\n\u001b[1;32m   2174\u001b[0m         )\n\u001b[0;32m-> 2175\u001b[0m     \u001b[38;5;28;43mself\u001b[39;49m\u001b[38;5;241;43m.\u001b[39;49m\u001b[43mobj\u001b[49m\u001b[38;5;241;43m.\u001b[39;49m\u001b[43m_mgr\u001b[49m\u001b[38;5;241;43m.\u001b[39;49m\u001b[43mcolumn_setitem\u001b[49m\u001b[43m(\u001b[49m\u001b[43mloc\u001b[49m\u001b[43m,\u001b[49m\u001b[43m \u001b[49m\u001b[43mplane_indexer\u001b[49m\u001b[43m,\u001b[49m\u001b[43m \u001b[49m\u001b[43mvalue\u001b[49m\u001b[43m)\u001b[49m\n\u001b[1;32m   2177\u001b[0m \u001b[38;5;28mself\u001b[39m\u001b[38;5;241m.\u001b[39mobj\u001b[38;5;241m.\u001b[39m_clear_item_cache()\n",
      "File \u001b[0;32m/usr/local/lib/python3.9/site-packages/pandas/core/internals/managers.py:1338\u001b[0m, in \u001b[0;36mBlockManager.column_setitem\u001b[0;34m(self, loc, idx, value, inplace_only)\u001b[0m\n\u001b[1;32m   1336\u001b[0m \u001b[38;5;28;01melse\u001b[39;00m:\n\u001b[1;32m   1337\u001b[0m     new_mgr \u001b[38;5;241m=\u001b[39m col_mgr\u001b[38;5;241m.\u001b[39msetitem((idx,), value)\n\u001b[0;32m-> 1338\u001b[0m     \u001b[38;5;28;43mself\u001b[39;49m\u001b[38;5;241;43m.\u001b[39;49m\u001b[43miset\u001b[49m\u001b[43m(\u001b[49m\u001b[43mloc\u001b[49m\u001b[43m,\u001b[49m\u001b[43m \u001b[49m\u001b[43mnew_mgr\u001b[49m\u001b[38;5;241;43m.\u001b[39;49m\u001b[43m_block\u001b[49m\u001b[38;5;241;43m.\u001b[39;49m\u001b[43mvalues\u001b[49m\u001b[43m,\u001b[49m\u001b[43m \u001b[49m\u001b[43minplace\u001b[49m\u001b[38;5;241;43m=\u001b[39;49m\u001b[38;5;28;43;01mTrue\u001b[39;49;00m\u001b[43m)\u001b[49m\n\u001b[1;32m   1340\u001b[0m \u001b[38;5;28;01mif\u001b[39;00m needs_to_warn:\n\u001b[1;32m   1341\u001b[0m     warnings\u001b[38;5;241m.\u001b[39mwarn(\n\u001b[1;32m   1342\u001b[0m         COW_WARNING_GENERAL_MSG,\n\u001b[1;32m   1343\u001b[0m         \u001b[38;5;167;01mFutureWarning\u001b[39;00m,\n\u001b[1;32m   1344\u001b[0m         stacklevel\u001b[38;5;241m=\u001b[39mfind_stack_level(),\n\u001b[1;32m   1345\u001b[0m     )\n",
      "File \u001b[0;32m/usr/local/lib/python3.9/site-packages/pandas/core/internals/managers.py:1133\u001b[0m, in \u001b[0;36mBlockManager.iset\u001b[0;34m(self, loc, value, inplace, refs)\u001b[0m\n\u001b[1;32m   1131\u001b[0m \u001b[38;5;66;03m# Accessing public blknos ensures the public versions are initialized\u001b[39;00m\n\u001b[1;32m   1132\u001b[0m blknos \u001b[38;5;241m=\u001b[39m \u001b[38;5;28mself\u001b[39m\u001b[38;5;241m.\u001b[39mblknos[loc]\n\u001b[0;32m-> 1133\u001b[0m blklocs \u001b[38;5;241m=\u001b[39m \u001b[38;5;28;43mself\u001b[39;49m\u001b[38;5;241;43m.\u001b[39;49m\u001b[43mblklocs\u001b[49m\u001b[43m[\u001b[49m\u001b[43mloc\u001b[49m\u001b[43m]\u001b[49m\u001b[38;5;241;43m.\u001b[39;49m\u001b[43mcopy\u001b[49m\u001b[43m(\u001b[49m\u001b[43m)\u001b[49m\n\u001b[1;32m   1135\u001b[0m unfit_mgr_locs \u001b[38;5;241m=\u001b[39m []\n\u001b[1;32m   1136\u001b[0m unfit_val_locs \u001b[38;5;241m=\u001b[39m []\n",
      "\u001b[0;31mKeyboardInterrupt\u001b[0m: "
     ]
    }
   ],
   "source": [
    "replay(streams, 2)"
   ]
  },
  {
   "cell_type": "code",
   "execution_count": null,
   "metadata": {},
   "outputs": [],
   "source": []
  }
 ],
 "metadata": {
  "colab": {
   "provenance": []
  },
  "kernelspec": {
   "display_name": "Python 3 (ipykernel)",
   "language": "python",
   "name": "python3"
  },
  "language_info": {
   "codemirror_mode": {
    "name": "ipython",
    "version": 3
   },
   "file_extension": ".py",
   "mimetype": "text/x-python",
   "name": "python",
   "nbconvert_exporter": "python",
   "pygments_lexer": "ipython3",
   "version": "3.9.20"
  }
 },
 "nbformat": 4,
 "nbformat_minor": 4
}
