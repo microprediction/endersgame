{
 "cells": [
  {
   "cell_type": "code",
   "execution_count": 1,
   "id": "b34b3eaa-6bd8-4a80-bb8c-fee58610bf60",
   "metadata": {
    "ExecuteTime": {
     "end_time": "2024-09-22T20:46:44.100134Z",
     "start_time": "2024-09-22T20:46:43.236733Z"
    }
   },
   "outputs": [],
   "source": [
    "%load_ext autoreload\n",
    "%autoreload 2"
   ]
  },
  {
   "cell_type": "code",
   "execution_count": 2,
   "id": "9465c647-539b-4aa9-abeb-2f1f06cde48e",
   "metadata": {
    "ExecuteTime": {
     "end_time": "2024-09-22T20:46:44.100134Z",
     "start_time": "2024-09-22T20:46:43.236733Z"
    }
   },
   "outputs": [],
   "source": [
    "from endersgame.crunch.attacker import UP\n",
    "from endersgame.crunch import viz\n",
    "\n",
    "@viz\n",
    "def predict_one(x, k):\n",
    "    return UP"
   ]
  },
  {
   "cell_type": "code",
   "execution_count": 10,
   "id": "e6313f42-e338-445b-8e64-20cb51bb5616",
   "metadata": {
    "ExecuteTime": {
     "end_time": "2024-09-22T20:46:44.100134Z",
     "start_time": "2024-09-22T20:46:43.236733Z"
    }
   },
   "outputs": [
    {
     "ename": "ValidationError",
     "evalue": "1 validation error for StreamBatch\npoints.0\n  Input should be a valid dictionary or instance of StreamPoint [type=model_type, input_value=StreamPoint(substream_id=... 8, 53, 853000), n=None), input_type=StreamPoint]\n    For further information visit https://errors.pydantic.dev/2.7/v/model_type",
     "output_type": "error",
     "traceback": [
      "\u001B[0;31m---------------------------------------------------------------------------\u001B[0m",
      "\u001B[0;31mValidationError\u001B[0m                           Traceback (most recent call last)",
      "Cell \u001B[0;32mIn[10], line 5\u001B[0m\n\u001B[1;32m      1\u001B[0m \u001B[38;5;28;01mfrom\u001B[39;00m \u001B[38;5;21;01mendersgame\u001B[39;00m\u001B[38;5;21;01m.\u001B[39;00m\u001B[38;5;21;01mcrunch\u001B[39;00m \u001B[38;5;28;01mimport\u001B[39;00m crunch\n\u001B[1;32m      3\u001B[0m values \u001B[38;5;241m=\u001B[39m crunch\u001B[38;5;241m.\u001B[39mreplay(\u001B[38;5;124m\"\u001B[39m\u001B[38;5;124mcurrency.csv\u001B[39m\u001B[38;5;124m\"\u001B[39m, delay\u001B[38;5;241m=\u001B[39m\u001B[38;5;241m0.05\u001B[39m, only\u001B[38;5;241m=\u001B[39m\u001B[38;5;124m\"\u001B[39m\u001B[38;5;124mUSD/CAD\u001B[39m\u001B[38;5;124m\"\u001B[39m)\n\u001B[0;32m----> 5\u001B[0m \u001B[38;5;28;01mfor\u001B[39;00m x \u001B[38;5;129;01min\u001B[39;00m values:\n\u001B[1;32m      6\u001B[0m     \u001B[38;5;28mprint\u001B[39m(x)\n\u001B[1;32m      7\u001B[0m     predict_k(x, \u001B[38;5;241m5\u001B[39m)\n",
      "File \u001B[0;32m~/Development/endersgame/endersgame/crunch/replay.py:59\u001B[0m, in \u001B[0;36mReplay.values\u001B[0;34m(self, delay)\u001B[0m\n\u001B[1;32m     57\u001B[0m \u001B[38;5;28;01mdef\u001B[39;00m \u001B[38;5;21mvalues\u001B[39m(\u001B[38;5;28mself\u001B[39m, delay: \u001B[38;5;28mfloat\u001B[39m) \u001B[38;5;241m-\u001B[39m\u001B[38;5;241m>\u001B[39m Iterator[\u001B[38;5;28mfloat\u001B[39m]:\n\u001B[1;32m     58\u001B[0m     \u001B[38;5;28;01mwhile\u001B[39;00m \u001B[38;5;28mself\u001B[39m\u001B[38;5;241m.\u001B[39midx \u001B[38;5;241m<\u001B[39m \u001B[38;5;28mlen\u001B[39m(\u001B[38;5;28mself\u001B[39m\u001B[38;5;241m.\u001B[39mtimestamps):\n\u001B[0;32m---> 59\u001B[0m         batch \u001B[38;5;241m=\u001B[39m \u001B[38;5;28;43mself\u001B[39;49m\u001B[38;5;241;43m.\u001B[39;49m\u001B[43mtick\u001B[49m\u001B[43m(\u001B[49m\u001B[43m)\u001B[49m\n\u001B[1;32m     60\u001B[0m         \u001B[38;5;28;01mfor\u001B[39;00m pt \u001B[38;5;129;01min\u001B[39;00m batch\u001B[38;5;241m.\u001B[39mpoints:\n\u001B[1;32m     61\u001B[0m             \u001B[38;5;28;01myield\u001B[39;00m pt\u001B[38;5;241m.\u001B[39mvalue\n",
      "File \u001B[0;32m~/Development/endersgame/endersgame/crunch/replay.py:75\u001B[0m, in \u001B[0;36mReplay.tick\u001B[0;34m(self)\u001B[0m\n\u001B[1;32m     69\u001B[0m points \u001B[38;5;241m=\u001B[39m (\n\u001B[1;32m     70\u001B[0m     StreamPoint(substream_id\u001B[38;5;241m=\u001B[39mpt\u001B[38;5;241m.\u001B[39msecurityId,\n\u001B[1;32m     71\u001B[0m                 t\u001B[38;5;241m=\u001B[39mpt\u001B[38;5;241m.\u001B[39mdt,\n\u001B[1;32m     72\u001B[0m                 value\u001B[38;5;241m=\u001B[39mpt\u001B[38;5;241m.\u001B[39mget_field_value(\u001B[38;5;28mself\u001B[39m\u001B[38;5;241m.\u001B[39mfield))\n\u001B[1;32m     73\u001B[0m     \u001B[38;5;28;01mfor\u001B[39;00m pt \u001B[38;5;129;01min\u001B[39;00m \u001B[38;5;28mself\u001B[39m\u001B[38;5;241m.\u001B[39mdata[current_time] \u001B[38;5;28;01mif\u001B[39;00m \u001B[38;5;28mself\u001B[39m\u001B[38;5;241m.\u001B[39mfilter(pt))\n\u001B[1;32m     74\u001B[0m \u001B[38;5;28mself\u001B[39m\u001B[38;5;241m.\u001B[39midx \u001B[38;5;241m+\u001B[39m\u001B[38;5;241m=\u001B[39m \u001B[38;5;241m1\u001B[39m\n\u001B[0;32m---> 75\u001B[0m \u001B[38;5;28;01mreturn\u001B[39;00m \u001B[43mStreamBatch\u001B[49m\u001B[43m(\u001B[49m\u001B[43mpoints\u001B[49m\u001B[38;5;241;43m=\u001B[39;49m\u001B[43mpoints\u001B[49m\u001B[43m)\u001B[49m\n",
      "File \u001B[0;32m/usr/local/Caskroom/miniconda/base/lib/python3.10/site-packages/pydantic/main.py:176\u001B[0m, in \u001B[0;36mBaseModel.__init__\u001B[0;34m(self, **data)\u001B[0m\n\u001B[1;32m    174\u001B[0m \u001B[38;5;66;03m# `__tracebackhide__` tells pytest and some other tools to omit this function from tracebacks\u001B[39;00m\n\u001B[1;32m    175\u001B[0m __tracebackhide__ \u001B[38;5;241m=\u001B[39m \u001B[38;5;28;01mTrue\u001B[39;00m\n\u001B[0;32m--> 176\u001B[0m \u001B[38;5;28;43mself\u001B[39;49m\u001B[38;5;241;43m.\u001B[39;49m\u001B[43m__pydantic_validator__\u001B[49m\u001B[38;5;241;43m.\u001B[39;49m\u001B[43mvalidate_python\u001B[49m\u001B[43m(\u001B[49m\u001B[43mdata\u001B[49m\u001B[43m,\u001B[49m\u001B[43m \u001B[49m\u001B[43mself_instance\u001B[49m\u001B[38;5;241;43m=\u001B[39;49m\u001B[38;5;28;43mself\u001B[39;49m\u001B[43m)\u001B[49m\n",
      "\u001B[0;31mValidationError\u001B[0m: 1 validation error for StreamBatch\npoints.0\n  Input should be a valid dictionary or instance of StreamPoint [type=model_type, input_value=StreamPoint(substream_id=... 8, 53, 853000), n=None), input_type=StreamPoint]\n    For further information visit https://errors.pydantic.dev/2.7/v/model_type"
     ]
    }
   ],
   "source": [
    "from endersgame.crunch import crunch\n",
    "\n",
    "values = crunch.replay(\"currency.csv\", delay=0.05, only=\"USD/CAD\")\n",
    "\n",
    "for x in values:\n",
    "    print(x)\n",
    "    predict_k(x, 5)\n",
    "    "
   ]
  },
  {
   "cell_type": "code",
   "execution_count": null,
   "id": "cb0ac90c-18e8-48a1-a947-504b53627bbd",
   "metadata": {
    "ExecuteTime": {
     "end_time": "2024-09-22T20:46:44.100134Z",
     "start_time": "2024-09-22T20:46:43.236733Z"
    }
   },
   "outputs": [],
   "source": [
    "from endersgame.bot import Bot\n",
    "from endersgame.bot.attacker import RandomAttacker, UpAttacker\n",
    "from endersgame.bot.visualization import TimeSeriesVisualizer\n",
    "from endersgame.bot.accounting import AccountingDataVisualizer"
   ]
  },
  {
   "cell_type": "code",
   "execution_count": null,
   "id": "07d50c01-3664-4663-8668-e8e0ef2c47bc",
   "metadata": {},
   "outputs": [],
   "source": [
    "# Use same Base Model for all substream\n",
    "# bot = Bot(base_url=\"http://localhost:8989\", model=Attacker)\n",
    "bot = Bot(base_url=\"http://localhost:8989\")\n",
    "bot.with_model(\"USD/CAD\", RandomAttacker())\n",
    "bot.with_model(\"EUR/CAD\", UpAttacker())"
   ]
  },
  {
   "cell_type": "code",
   "execution_count": null,
   "id": "24261ef7-c192-4960-a2eb-32b537ea2de5",
   "metadata": {},
   "outputs": [],
   "source": [
    "bot.login(user_id='antoine')\n",
    "bot.register(stream='currency')\n",
    "bot.connect()"
   ]
  },
  {
   "cell_type": "code",
   "execution_count": null,
   "id": "3d704777-1be3-4661-ae1d-3f4dbe2dc968",
   "metadata": {},
   "outputs": [],
   "source": [
    "from endersgame.accounting.simplepnl import SimplePnL\n",
    "accounting = AccountingDataVisualizer(SimplePnL)\n",
    "bot.with_substream_sink(\"USD/CAD\", accounting)\n",
    "bot.with_substream_sink(\"EUR/CAD\", accounting)"
   ]
  },
  {
   "cell_type": "code",
   "execution_count": null,
   "id": "06c4a322-8e6a-417e-9f5f-bc65bacdd436",
   "metadata": {},
   "outputs": [],
   "source": [
    "bot.with_substream_sink(\"USD/CAD\", TimeSeriesVisualizer())\n",
    "bot.with_substream_sink(\"EUR/CAD\", TimeSeriesVisualizer())"
   ]
  },
  {
   "cell_type": "code",
   "execution_count": null,
   "id": "c79b8ee0-2a3a-4ebd-8534-19c3b57f9ab1",
   "metadata": {},
   "outputs": [],
   "source": [
    "bot.disconnect()"
   ]
  },
  {
   "cell_type": "code",
   "execution_count": null,
   "id": "3c977685-7dd5-4bf9-9a67-fc251926b4e1",
   "metadata": {},
   "outputs": [],
   "source": [
    "from endersgame.bot.replay import Replay\n",
    "replay = Replay(\"currency.csv\", \"mid\")"
   ]
  },
  {
   "cell_type": "code",
   "execution_count": null,
   "id": "b24a39d3-75b9-406b-942d-fcf6190084df",
   "metadata": {},
   "outputs": [],
   "source": [
    "bot.run(replay, delay=.1)"
   ]
  },
  {
   "cell_type": "code",
   "execution_count": null,
   "id": "c7fade43-27a4-4601-9ea2-0369b614e9f9",
   "metadata": {},
   "outputs": [],
   "source": []
  },
  {
   "cell_type": "code",
   "execution_count": null,
   "id": "08c5c68b-e438-4fad-8d05-0dd937ad89f5",
   "metadata": {},
   "outputs": [],
   "source": []
  }
 ],
 "metadata": {
  "kernelspec": {
   "display_name": "Python 3 (ipykernel)",
   "language": "python",
   "name": "python3"
  },
  "language_info": {
   "codemirror_mode": {
    "name": "ipython",
    "version": 3
   },
   "file_extension": ".py",
   "mimetype": "text/x-python",
   "name": "python",
   "nbconvert_exporter": "python",
   "pygments_lexer": "ipython3",
   "version": "3.10.13"
  }
 },
 "nbformat": 4,
 "nbformat_minor": 5
}
